{
 "cells": [
  {
   "cell_type": "code",
   "execution_count": 1,
   "metadata": {
    "ExecuteTime": {
     "end_time": "2020-12-22T13:07:31.293082Z",
     "start_time": "2020-12-22T13:07:31.231304Z"
    }
   },
   "outputs": [],
   "source": [
    "import numpy as np\n",
    "import re\n",
    "\n",
    "with open(\"input/day22_input.txt\", \"r\") as f:\n",
    "    data = [l.rstrip() for l in f.readlines()]"
   ]
  },
  {
   "cell_type": "code",
   "execution_count": 2,
   "metadata": {
    "ExecuteTime": {
     "end_time": "2020-12-22T13:07:31.300757Z",
     "start_time": "2020-12-22T13:07:31.294599Z"
    }
   },
   "outputs": [
    {
     "name": "stdout",
     "output_type": "stream",
     "text": [
      "Player 1 won 32598\n"
     ]
    }
   ],
   "source": [
    "deck1, deck2 = data[1:len(data) // 2], data[len(data) // 2 + 2:]\n",
    "\n",
    "while (len(deck1) and len(deck2)):\n",
    "    c1, c2 = deck1.pop(0), deck2.pop(0)\n",
    "    if int(c1) > int(c2):\n",
    "        deck1.extend([c1, c2])\n",
    "    else:\n",
    "        deck2.extend([c2, c1])\n",
    "    \n",
    "if len(deck1) > 0:\n",
    "    print(\"Player 1 won\", np.sum(np.array(deck1, dtype=\"int\") * (np.arange(len(deck1))[::-1] + 1)))\n",
    "else:\n",
    "    print(\"Player 2 won\", np.sum(np.array(deck2, dtype=\"int\") * (np.arange(len(deck2))[::-1] + 1)))"
   ]
  },
  {
   "cell_type": "markdown",
   "metadata": {},
   "source": [
    "# Part 2"
   ]
  },
  {
   "cell_type": "code",
   "execution_count": 3,
   "metadata": {
    "ExecuteTime": {
     "end_time": "2020-12-22T13:07:31.304303Z",
     "start_time": "2020-12-22T13:07:31.302001Z"
    }
   },
   "outputs": [],
   "source": [
    "deck1, deck2 = data[1:len(data) // 2], data[len(data) // 2 + 2:]\n",
    "# deck1, deck2 = [43, 19], [2, 29, 14]"
   ]
  },
  {
   "cell_type": "code",
   "execution_count": 4,
   "metadata": {
    "ExecuteTime": {
     "end_time": "2020-12-22T13:07:31.311490Z",
     "start_time": "2020-12-22T13:07:31.305314Z"
    }
   },
   "outputs": [],
   "source": [
    "def recursive_combat(deck1, deck2):\n",
    "    deck1 = deck1.copy()\n",
    "    deck2 = deck2.copy()\n",
    "    previous_rounds = set()\n",
    "    \n",
    "    while len(deck1) and len(deck2):\n",
    "        current_round = (tuple(deck1), tuple(deck2))  # lists can't be hashed, but tuples can?\n",
    "        if current_round in previous_rounds:\n",
    "            winner = 1\n",
    "            break\n",
    "           \n",
    "        previous_rounds.add(current_round)\n",
    "    \n",
    "        c1, c2 = int(deck1.pop(0)), int(deck2.pop(0))\n",
    "        \n",
    "        if len(deck1) >= c1 and len(deck2) >= c2:\n",
    "            winner, _ = recursive_combat(deck1[:c1], deck2[:c2])\n",
    "        else:\n",
    "            winner = 1 if c1 > c2 else 2\n",
    "            \n",
    "        if winner == 1:\n",
    "            deck1.extend([c1, c2])\n",
    "        else:\n",
    "            deck2.extend([c2, c1])\n",
    "\n",
    "    if len(deck1) > 0:\n",
    "        return 1, np.sum(np.array(deck1, dtype=\"int\") * (np.arange(len(deck1))[::-1] + 1))\n",
    "    else:\n",
    "        return 2, np.sum(np.array(deck2, dtype=\"int\") * (np.arange(len(deck2))[::-1] + 1))"
   ]
  },
  {
   "cell_type": "code",
   "execution_count": 5,
   "metadata": {
    "ExecuteTime": {
     "end_time": "2020-12-22T13:07:32.963262Z",
     "start_time": "2020-12-22T13:07:31.312550Z"
    }
   },
   "outputs": [
    {
     "data": {
      "text/plain": [
       "(1, 35836)"
      ]
     },
     "execution_count": 5,
     "metadata": {},
     "output_type": "execute_result"
    }
   ],
   "source": [
    "recursive_combat(deck1, deck2)"
   ]
  },
  {
   "cell_type": "code",
   "execution_count": null,
   "metadata": {},
   "outputs": [],
   "source": []
  }
 ],
 "metadata": {
  "kernelspec": {
   "display_name": "Python 3.8.1 64-bit ('kaggle': conda)",
   "language": "python",
   "name": "python38164bitkaggleconda0013a04193b845a7a07c668fa6fedcae"
  },
  "language_info": {
   "codemirror_mode": {
    "name": "ipython",
    "version": 3
   },
   "file_extension": ".py",
   "mimetype": "text/x-python",
   "name": "python",
   "nbconvert_exporter": "python",
   "pygments_lexer": "ipython3",
   "version": "3.8.5"
  }
 },
 "nbformat": 4,
 "nbformat_minor": 4
}
