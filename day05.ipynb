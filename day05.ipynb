{
 "cells": [
  {
   "cell_type": "code",
   "execution_count": 1,
   "metadata": {
    "ExecuteTime": {
     "end_time": "2020-12-05T09:59:35.139771Z",
     "start_time": "2020-12-05T09:59:34.966530Z"
    }
   },
   "outputs": [],
   "source": [
    "import pandas as pd\n",
    "import numpy as np\n",
    "import re\n",
    "from pathlib import Path\n",
    "\n",
    "INPUT_PATH = Path(\"input\")"
   ]
  },
  {
   "cell_type": "code",
   "execution_count": 2,
   "metadata": {
    "ExecuteTime": {
     "end_time": "2020-12-05T09:59:35.143177Z",
     "start_time": "2020-12-05T09:59:35.141341Z"
    }
   },
   "outputs": [],
   "source": [
    "# 128 rows, 8 columns (zero index)\n",
    "# Seat ID = (row X 8) + column"
   ]
  },
  {
   "cell_type": "code",
   "execution_count": 3,
   "metadata": {
    "ExecuteTime": {
     "end_time": "2020-12-05T09:59:35.148324Z",
     "start_time": "2020-12-05T09:59:35.144373Z"
    }
   },
   "outputs": [],
   "source": [
    "def split_array(split, array):\n",
    "    half = len(array) // 2\n",
    "    if split in [\"F\", \"L\"]:\n",
    "        return array[:half]\n",
    "    else:\n",
    "        return array[half:]"
   ]
  },
  {
   "cell_type": "code",
   "execution_count": 4,
   "metadata": {
    "ExecuteTime": {
     "end_time": "2020-12-05T09:59:35.153619Z",
     "start_time": "2020-12-05T09:59:35.149384Z"
    }
   },
   "outputs": [],
   "source": [
    "def code_lookup(code, n_rows=128, n_cols=8):\n",
    "    row_search = code[:7]\n",
    "    col_search = code[-3:]\n",
    "    row_search, col_search\n",
    "\n",
    "    rows = np.arange(n_rows)\n",
    "    cols = np.arange(n_cols)\n",
    "\n",
    "    for r in row_search:\n",
    "        rows = split_array(r, rows)\n",
    "\n",
    "    for c in col_search:\n",
    "        cols = split_array(c, cols)\n",
    "\n",
    "    seat_id = rows[0] * 8 + cols[0]\n",
    "    return seat_id"
   ]
  },
  {
   "cell_type": "code",
   "execution_count": 5,
   "metadata": {
    "ExecuteTime": {
     "end_time": "2020-12-05T09:59:35.165459Z",
     "start_time": "2020-12-05T09:59:35.155295Z"
    }
   },
   "outputs": [
    {
     "data": {
      "text/plain": [
       "357"
      ]
     },
     "execution_count": 5,
     "metadata": {},
     "output_type": "execute_result"
    }
   ],
   "source": [
    "code = \"FBFBBFFRLR\"\n",
    "\n",
    "code_lookup(code)"
   ]
  },
  {
   "cell_type": "code",
   "execution_count": 6,
   "metadata": {
    "ExecuteTime": {
     "end_time": "2020-12-05T09:59:35.189017Z",
     "start_time": "2020-12-05T09:59:35.166560Z"
    }
   },
   "outputs": [
    {
     "data": {
      "text/html": [
       "<div>\n",
       "<style scoped>\n",
       "    .dataframe tbody tr th:only-of-type {\n",
       "        vertical-align: middle;\n",
       "    }\n",
       "\n",
       "    .dataframe tbody tr th {\n",
       "        vertical-align: top;\n",
       "    }\n",
       "\n",
       "    .dataframe thead th {\n",
       "        text-align: right;\n",
       "    }\n",
       "</style>\n",
       "<table border=\"1\" class=\"dataframe\">\n",
       "  <thead>\n",
       "    <tr style=\"text-align: right;\">\n",
       "      <th></th>\n",
       "      <th>0</th>\n",
       "      <th>seat_id</th>\n",
       "    </tr>\n",
       "  </thead>\n",
       "  <tbody>\n",
       "    <tr>\n",
       "      <th>0</th>\n",
       "      <td>BFBBBBFRLL</td>\n",
       "      <td>756</td>\n",
       "    </tr>\n",
       "    <tr>\n",
       "      <th>1</th>\n",
       "      <td>FBFBFFBRLL</td>\n",
       "      <td>332</td>\n",
       "    </tr>\n",
       "    <tr>\n",
       "      <th>2</th>\n",
       "      <td>BBFBBFBLRL</td>\n",
       "      <td>874</td>\n",
       "    </tr>\n",
       "    <tr>\n",
       "      <th>3</th>\n",
       "      <td>BFFFBBFLLR</td>\n",
       "      <td>561</td>\n",
       "    </tr>\n",
       "    <tr>\n",
       "      <th>4</th>\n",
       "      <td>BFFFFBBLRL</td>\n",
       "      <td>538</td>\n",
       "    </tr>\n",
       "    <tr>\n",
       "      <th>...</th>\n",
       "      <td>...</td>\n",
       "      <td>...</td>\n",
       "    </tr>\n",
       "    <tr>\n",
       "      <th>871</th>\n",
       "      <td>FFBBFFFRLR</td>\n",
       "      <td>197</td>\n",
       "    </tr>\n",
       "    <tr>\n",
       "      <th>872</th>\n",
       "      <td>BFFFFFFLRL</td>\n",
       "      <td>514</td>\n",
       "    </tr>\n",
       "    <tr>\n",
       "      <th>873</th>\n",
       "      <td>FFBBBFFLRR</td>\n",
       "      <td>227</td>\n",
       "    </tr>\n",
       "    <tr>\n",
       "      <th>874</th>\n",
       "      <td>FFFBFBBLLL</td>\n",
       "      <td>88</td>\n",
       "    </tr>\n",
       "    <tr>\n",
       "      <th>875</th>\n",
       "      <td>FFBFFFFLLR</td>\n",
       "      <td>129</td>\n",
       "    </tr>\n",
       "  </tbody>\n",
       "</table>\n",
       "<p>876 rows × 2 columns</p>\n",
       "</div>"
      ],
      "text/plain": [
       "              0  seat_id\n",
       "0    BFBBBBFRLL      756\n",
       "1    FBFBFFBRLL      332\n",
       "2    BBFBBFBLRL      874\n",
       "3    BFFFBBFLLR      561\n",
       "4    BFFFFBBLRL      538\n",
       "..          ...      ...\n",
       "871  FFBBFFFRLR      197\n",
       "872  BFFFFFFLRL      514\n",
       "873  FFBBBFFLRR      227\n",
       "874  FFFBFBBLLL       88\n",
       "875  FFBFFFFLLR      129\n",
       "\n",
       "[876 rows x 2 columns]"
      ]
     },
     "execution_count": 6,
     "metadata": {},
     "output_type": "execute_result"
    }
   ],
   "source": [
    "df = pd.read_csv(INPUT_PATH / \"day05_input.txt\", header=None)\n",
    "df[\"seat_id\"] = df[0].apply(code_lookup)\n",
    "df"
   ]
  },
  {
   "cell_type": "code",
   "execution_count": 7,
   "metadata": {
    "ExecuteTime": {
     "end_time": "2020-12-05T09:59:35.194121Z",
     "start_time": "2020-12-05T09:59:35.190755Z"
    }
   },
   "outputs": [
    {
     "data": {
      "text/plain": [
       "930"
      ]
     },
     "execution_count": 7,
     "metadata": {},
     "output_type": "execute_result"
    }
   ],
   "source": [
    "df[\"seat_id\"].max()"
   ]
  },
  {
   "cell_type": "markdown",
   "metadata": {},
   "source": [
    "# Part 2"
   ]
  },
  {
   "cell_type": "code",
   "execution_count": 8,
   "metadata": {
    "ExecuteTime": {
     "end_time": "2020-12-05T09:59:35.199156Z",
     "start_time": "2020-12-05T09:59:35.195189Z"
    }
   },
   "outputs": [
    {
     "data": {
      "text/plain": [
       "(54, 930)"
      ]
     },
     "execution_count": 8,
     "metadata": {},
     "output_type": "execute_result"
    }
   ],
   "source": [
    "df[\"seat_id\"].min(), df[\"seat_id\"].max()"
   ]
  },
  {
   "cell_type": "code",
   "execution_count": 9,
   "metadata": {
    "ExecuteTime": {
     "end_time": "2020-12-05T09:59:35.203596Z",
     "start_time": "2020-12-05T09:59:35.200230Z"
    }
   },
   "outputs": [],
   "source": [
    "all_seats = np.arange(df[\"seat_id\"].min(), df[\"seat_id\"].max() + 1)"
   ]
  },
  {
   "cell_type": "code",
   "execution_count": 10,
   "metadata": {
    "ExecuteTime": {
     "end_time": "2020-12-05T09:59:35.210377Z",
     "start_time": "2020-12-05T09:59:35.204582Z"
    }
   },
   "outputs": [
    {
     "data": {
      "text/plain": [
       "{515}"
      ]
     },
     "execution_count": 10,
     "metadata": {},
     "output_type": "execute_result"
    }
   ],
   "source": [
    "taken_seats = set(df[\"seat_id\"])\n",
    "all_seats = set(all_seats)\n",
    "\n",
    "all_seats.difference(taken_seats)"
   ]
  }
 ],
 "metadata": {
  "kernelspec": {
   "display_name": "Python 3.8.1 64-bit ('kaggle': conda)",
   "language": "python",
   "name": "python38164bitkaggleconda0013a04193b845a7a07c668fa6fedcae"
  },
  "language_info": {
   "codemirror_mode": {
    "name": "ipython",
    "version": 3
   },
   "file_extension": ".py",
   "mimetype": "text/x-python",
   "name": "python",
   "nbconvert_exporter": "python",
   "pygments_lexer": "ipython3",
   "version": "3.8.5"
  }
 },
 "nbformat": 4,
 "nbformat_minor": 4
}
