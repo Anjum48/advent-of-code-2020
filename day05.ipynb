{
 "cells": [
  {
   "cell_type": "code",
   "execution_count": 1,
   "metadata": {
    "ExecuteTime": {
     "end_time": "2020-12-05T09:56:59.197356Z",
     "start_time": "2020-12-05T09:56:59.029036Z"
    }
   },
   "outputs": [],
   "source": [
    "import pandas as pd\n",
    "import numpy as np\n",
    "import re\n",
    "from pathlib import Path\n",
    "\n",
    "INPUT_PATH = Path(\"input\")"
   ]
  },
  {
   "cell_type": "code",
   "execution_count": 2,
   "metadata": {
    "ExecuteTime": {
     "end_time": "2020-12-05T09:56:59.202489Z",
     "start_time": "2020-12-05T09:56:59.199738Z"
    }
   },
   "outputs": [],
   "source": [
    "# 128 rows, 8 columns (zero index)\n",
    "# Seat ID = (row X 8) + column"
   ]
  },
  {
   "cell_type": "code",
   "execution_count": 3,
   "metadata": {
    "ExecuteTime": {
     "end_time": "2020-12-05T09:56:59.209549Z",
     "start_time": "2020-12-05T09:56:59.204828Z"
    }
   },
   "outputs": [],
   "source": [
    "def split_array(split, array):\n",
    "    half = len(array) // 2\n",
    "    if split in [\"F\", \"L\"]:\n",
    "        return array[:half]\n",
    "    else:\n",
    "        return array[half:]"
   ]
  },
  {
   "cell_type": "code",
   "execution_count": 4,
   "metadata": {
    "ExecuteTime": {
     "end_time": "2020-12-05T09:56:59.216813Z",
     "start_time": "2020-12-05T09:56:59.211086Z"
    }
   },
   "outputs": [],
   "source": [
    "def code_lookup(code, n_rows=128, n_cols=8):\n",
    "    row_search = code[:7]\n",
    "    col_search = code[-3:]\n",
    "    row_search, col_search\n",
    "\n",
    "    rows = np.arange(n_rows)\n",
    "    cols = np.arange(n_cols)\n",
    "\n",
    "    for r in row_search:\n",
    "        rows = split_array(r, rows)\n",
    "\n",
    "    for c in col_search:\n",
    "        cols = split_array(c, cols)\n",
    "\n",
    "    seat_id = rows[0] * 8 + cols[0]\n",
    "    return seat_id"
   ]
  },
  {
   "cell_type": "code",
   "execution_count": 5,
   "metadata": {
    "ExecuteTime": {
     "end_time": "2020-12-05T09:56:59.226712Z",
     "start_time": "2020-12-05T09:56:59.217894Z"
    }
   },
   "outputs": [
    {
     "data": {
      "text/plain": [
       "357"
      ]
     },
     "execution_count": 5,
     "metadata": {},
     "output_type": "execute_result"
    }
   ],
   "source": [
    "code = \"FBFBBFFRLR\"\n",
    "\n",
    "code_lookup(code)"
   ]
  },
  {
   "cell_type": "code",
   "execution_count": 6,
   "metadata": {
    "ExecuteTime": {
     "end_time": "2020-12-05T09:56:59.245772Z",
     "start_time": "2020-12-05T09:56:59.228157Z"
    }
   },
   "outputs": [
    {
     "data": {
      "text/html": [
       "<div>\n",
       "<style scoped>\n",
       "    .dataframe tbody tr th:only-of-type {\n",
       "        vertical-align: middle;\n",
       "    }\n",
       "\n",
       "    .dataframe tbody tr th {\n",
       "        vertical-align: top;\n",
       "    }\n",
       "\n",
       "    .dataframe thead th {\n",
       "        text-align: right;\n",
       "    }\n",
       "</style>\n",
       "<table border=\"1\" class=\"dataframe\">\n",
       "  <thead>\n",
       "    <tr style=\"text-align: right;\">\n",
       "      <th></th>\n",
       "      <th>0</th>\n",
       "      <th>seat_id</th>\n",
       "    </tr>\n",
       "  </thead>\n",
       "  <tbody>\n",
       "    <tr>\n",
       "      <th>0</th>\n",
       "      <td>BFBBBBFRLL</td>\n",
       "      <td>756</td>\n",
       "    </tr>\n",
       "    <tr>\n",
       "      <th>1</th>\n",
       "      <td>FBFBFFBRLL</td>\n",
       "      <td>332</td>\n",
       "    </tr>\n",
       "    <tr>\n",
       "      <th>2</th>\n",
       "      <td>BBFBBFBLRL</td>\n",
       "      <td>874</td>\n",
       "    </tr>\n",
       "    <tr>\n",
       "      <th>3</th>\n",
       "      <td>BFFFBBFLLR</td>\n",
       "      <td>561</td>\n",
       "    </tr>\n",
       "    <tr>\n",
       "      <th>4</th>\n",
       "      <td>BFFFFBBLRL</td>\n",
       "      <td>538</td>\n",
       "    </tr>\n",
       "    <tr>\n",
       "      <th>...</th>\n",
       "      <td>...</td>\n",
       "      <td>...</td>\n",
       "    </tr>\n",
       "    <tr>\n",
       "      <th>871</th>\n",
       "      <td>FFBBFFFRLR</td>\n",
       "      <td>197</td>\n",
       "    </tr>\n",
       "    <tr>\n",
       "      <th>872</th>\n",
       "      <td>BFFFFFFLRL</td>\n",
       "      <td>514</td>\n",
       "    </tr>\n",
       "    <tr>\n",
       "      <th>873</th>\n",
       "      <td>FFBBBFFLRR</td>\n",
       "      <td>227</td>\n",
       "    </tr>\n",
       "    <tr>\n",
       "      <th>874</th>\n",
       "      <td>FFFBFBBLLL</td>\n",
       "      <td>88</td>\n",
       "    </tr>\n",
       "    <tr>\n",
       "      <th>875</th>\n",
       "      <td>FFBFFFFLLR</td>\n",
       "      <td>129</td>\n",
       "    </tr>\n",
       "  </tbody>\n",
       "</table>\n",
       "<p>876 rows × 2 columns</p>\n",
       "</div>"
      ],
      "text/plain": [
       "              0  seat_id\n",
       "0    BFBBBBFRLL      756\n",
       "1    FBFBFFBRLL      332\n",
       "2    BBFBBFBLRL      874\n",
       "3    BFFFBBFLLR      561\n",
       "4    BFFFFBBLRL      538\n",
       "..          ...      ...\n",
       "871  FFBBFFFRLR      197\n",
       "872  BFFFFFFLRL      514\n",
       "873  FFBBBFFLRR      227\n",
       "874  FFFBFBBLLL       88\n",
       "875  FFBFFFFLLR      129\n",
       "\n",
       "[876 rows x 2 columns]"
      ]
     },
     "execution_count": 6,
     "metadata": {},
     "output_type": "execute_result"
    }
   ],
   "source": [
    "df = pd.read_csv(INPUT_PATH / \"day05_input.txt\", header=None)\n",
    "df[\"seat_id\"] = df[0].apply(code_lookup)\n",
    "df"
   ]
  },
  {
   "cell_type": "code",
   "execution_count": 7,
   "metadata": {
    "ExecuteTime": {
     "end_time": "2020-12-05T09:56:59.253125Z",
     "start_time": "2020-12-05T09:56:59.247614Z"
    }
   },
   "outputs": [
    {
     "data": {
      "text/plain": [
       "930"
      ]
     },
     "execution_count": 7,
     "metadata": {},
     "output_type": "execute_result"
    }
   ],
   "source": [
    "df[\"seat_id\"].max()"
   ]
  },
  {
   "cell_type": "markdown",
   "metadata": {},
   "source": [
    "# Part 2"
   ]
  },
  {
   "cell_type": "code",
   "execution_count": 8,
   "metadata": {
    "ExecuteTime": {
     "end_time": "2020-12-05T09:56:59.257801Z",
     "start_time": "2020-12-05T09:56:59.254422Z"
    }
   },
   "outputs": [
    {
     "data": {
      "text/plain": [
       "(54, 930)"
      ]
     },
     "execution_count": 8,
     "metadata": {},
     "output_type": "execute_result"
    }
   ],
   "source": [
    "df[\"seat_id\"].min(), df[\"seat_id\"].max()"
   ]
  },
  {
   "cell_type": "code",
   "execution_count": 9,
   "metadata": {
    "ExecuteTime": {
     "end_time": "2020-12-05T09:56:59.267058Z",
     "start_time": "2020-12-05T09:56:59.259004Z"
    }
   },
   "outputs": [
    {
     "data": {
      "text/plain": [
       "(array([ 54,  55,  56,  57,  58,  59,  60,  61,  62,  63,  64,  65,  66,\n",
       "         67,  68,  69,  70,  71,  72,  73,  74,  75,  76,  77,  78,  79,\n",
       "         80,  81,  82,  83,  84,  85,  86,  87,  88,  89,  90,  91,  92,\n",
       "         93,  94,  95,  96,  97,  98,  99, 100, 101, 102, 103, 104, 105,\n",
       "        106, 107, 108, 109, 110, 111, 112, 113, 114, 115, 116, 117, 118,\n",
       "        119, 120, 121, 122, 123, 124, 125, 126, 127, 128, 129, 130, 131,\n",
       "        132, 133, 134, 135, 136, 137, 138, 139, 140, 141, 142, 143, 144,\n",
       "        145, 146, 147, 148, 149, 150, 151, 152, 153, 154, 155, 156, 157,\n",
       "        158, 159, 160, 161, 162, 163, 164, 165, 166, 167, 168, 169, 170,\n",
       "        171, 172, 173, 174, 175, 176, 177, 178, 179, 180, 181, 182, 183,\n",
       "        184, 185, 186, 187, 188, 189, 190, 191, 192, 193, 194, 195, 196,\n",
       "        197, 198, 199, 200, 201, 202, 203, 204, 205, 206, 207, 208, 209,\n",
       "        210, 211, 212, 213, 214, 215, 216, 217, 218, 219, 220, 221, 222,\n",
       "        223, 224, 225, 226, 227, 228, 229, 230, 231, 232, 233, 234, 235,\n",
       "        236, 237, 238, 239, 240, 241, 242, 243, 244, 245, 246, 247, 248,\n",
       "        249, 250, 251, 252, 253, 254, 255, 256, 257, 258, 259, 260, 261,\n",
       "        262, 263, 264, 265, 266, 267, 268, 269, 270, 271, 272, 273, 274,\n",
       "        275, 276, 277, 278, 279, 280, 281, 282, 283, 284, 285, 286, 287,\n",
       "        288, 289, 290, 291, 292, 293, 294, 295, 296, 297, 298, 299, 300,\n",
       "        301, 302, 303, 304, 305, 306, 307, 308, 309, 310, 311, 312, 313,\n",
       "        314, 315, 316, 317, 318, 319, 320, 321, 322, 323, 324, 325, 326,\n",
       "        327, 328, 329, 330, 331, 332, 333, 334, 335, 336, 337, 338, 339,\n",
       "        340, 341, 342, 343, 344, 345, 346, 347, 348, 349, 350, 351, 352,\n",
       "        353, 354, 355, 356, 357, 358, 359, 360, 361, 362, 363, 364, 365,\n",
       "        366, 367, 368, 369, 370, 371, 372, 373, 374, 375, 376, 377, 378,\n",
       "        379, 380, 381, 382, 383, 384, 385, 386, 387, 388, 389, 390, 391,\n",
       "        392, 393, 394, 395, 396, 397, 398, 399, 400, 401, 402, 403, 404,\n",
       "        405, 406, 407, 408, 409, 410, 411, 412, 413, 414, 415, 416, 417,\n",
       "        418, 419, 420, 421, 422, 423, 424, 425, 426, 427, 428, 429, 430,\n",
       "        431, 432, 433, 434, 435, 436, 437, 438, 439, 440, 441, 442, 443,\n",
       "        444, 445, 446, 447, 448, 449, 450, 451, 452, 453, 454, 455, 456,\n",
       "        457, 458, 459, 460, 461, 462, 463, 464, 465, 466, 467, 468, 469,\n",
       "        470, 471, 472, 473, 474, 475, 476, 477, 478, 479, 480, 481, 482,\n",
       "        483, 484, 485, 486, 487, 488, 489, 490, 491, 492, 493, 494, 495,\n",
       "        496, 497, 498, 499, 500, 501, 502, 503, 504, 505, 506, 507, 508,\n",
       "        509, 510, 511, 512, 513, 514, 515, 516, 517, 518, 519, 520, 521,\n",
       "        522, 523, 524, 525, 526, 527, 528, 529, 530, 531, 532, 533, 534,\n",
       "        535, 536, 537, 538, 539, 540, 541, 542, 543, 544, 545, 546, 547,\n",
       "        548, 549, 550, 551, 552, 553, 554, 555, 556, 557, 558, 559, 560,\n",
       "        561, 562, 563, 564, 565, 566, 567, 568, 569, 570, 571, 572, 573,\n",
       "        574, 575, 576, 577, 578, 579, 580, 581, 582, 583, 584, 585, 586,\n",
       "        587, 588, 589, 590, 591, 592, 593, 594, 595, 596, 597, 598, 599,\n",
       "        600, 601, 602, 603, 604, 605, 606, 607, 608, 609, 610, 611, 612,\n",
       "        613, 614, 615, 616, 617, 618, 619, 620, 621, 622, 623, 624, 625,\n",
       "        626, 627, 628, 629, 630, 631, 632, 633, 634, 635, 636, 637, 638,\n",
       "        639, 640, 641, 642, 643, 644, 645, 646, 647, 648, 649, 650, 651,\n",
       "        652, 653, 654, 655, 656, 657, 658, 659, 660, 661, 662, 663, 664,\n",
       "        665, 666, 667, 668, 669, 670, 671, 672, 673, 674, 675, 676, 677,\n",
       "        678, 679, 680, 681, 682, 683, 684, 685, 686, 687, 688, 689, 690,\n",
       "        691, 692, 693, 694, 695, 696, 697, 698, 699, 700, 701, 702, 703,\n",
       "        704, 705, 706, 707, 708, 709, 710, 711, 712, 713, 714, 715, 716,\n",
       "        717, 718, 719, 720, 721, 722, 723, 724, 725, 726, 727, 728, 729,\n",
       "        730, 731, 732, 733, 734, 735, 736, 737, 738, 739, 740, 741, 742,\n",
       "        743, 744, 745, 746, 747, 748, 749, 750, 751, 752, 753, 754, 755,\n",
       "        756, 757, 758, 759, 760, 761, 762, 763, 764, 765, 766, 767, 768,\n",
       "        769, 770, 771, 772, 773, 774, 775, 776, 777, 778, 779, 780, 781,\n",
       "        782, 783, 784, 785, 786, 787, 788, 789, 790, 791, 792, 793, 794,\n",
       "        795, 796, 797, 798, 799, 800, 801, 802, 803, 804, 805, 806, 807,\n",
       "        808, 809, 810, 811, 812, 813, 814, 815, 816, 817, 818, 819, 820,\n",
       "        821, 822, 823, 824, 825, 826, 827, 828, 829, 830, 831, 832, 833,\n",
       "        834, 835, 836, 837, 838, 839, 840, 841, 842, 843, 844, 845, 846,\n",
       "        847, 848, 849, 850, 851, 852, 853, 854, 855, 856, 857, 858, 859,\n",
       "        860, 861, 862, 863, 864, 865, 866, 867, 868, 869, 870, 871, 872,\n",
       "        873, 874, 875, 876, 877, 878, 879, 880, 881, 882, 883, 884, 885,\n",
       "        886, 887, 888, 889, 890, 891, 892, 893, 894, 895, 896, 897, 898,\n",
       "        899, 900, 901, 902, 903, 904, 905, 906, 907, 908, 909, 910, 911,\n",
       "        912, 913, 914, 915, 916, 917, 918, 919, 920, 921, 922, 923, 924,\n",
       "        925, 926, 927, 928, 929, 930]),\n",
       " (877,))"
      ]
     },
     "execution_count": 9,
     "metadata": {},
     "output_type": "execute_result"
    }
   ],
   "source": [
    "all_seats = np.arange(df[\"seat_id\"].min(), df[\"seat_id\"].max() + 1)\n",
    "all_seats, all_seats.shape"
   ]
  },
  {
   "cell_type": "code",
   "execution_count": 10,
   "metadata": {
    "ExecuteTime": {
     "end_time": "2020-12-05T09:56:59.275233Z",
     "start_time": "2020-12-05T09:56:59.268593Z"
    }
   },
   "outputs": [
    {
     "data": {
      "text/plain": [
       "{515}"
      ]
     },
     "execution_count": 10,
     "metadata": {},
     "output_type": "execute_result"
    }
   ],
   "source": [
    "taken_seats = set(df[\"seat_id\"])\n",
    "all_seats = set(all_seats)\n",
    "\n",
    "all_seats.difference(taken_seats)"
   ]
  },
  {
   "cell_type": "code",
   "execution_count": null,
   "metadata": {
    "ExecuteTime": {
     "end_time": "2020-12-05T09:55:31.333760Z",
     "start_time": "2020-12-05T09:55:31.329552Z"
    }
   },
   "outputs": [],
   "source": []
  }
 ],
 "metadata": {
  "kernelspec": {
   "display_name": "Python 3.8.1 64-bit ('kaggle': conda)",
   "language": "python",
   "name": "python38164bitkaggleconda0013a04193b845a7a07c668fa6fedcae"
  },
  "language_info": {
   "codemirror_mode": {
    "name": "ipython",
    "version": 3
   },
   "file_extension": ".py",
   "mimetype": "text/x-python",
   "name": "python",
   "nbconvert_exporter": "python",
   "pygments_lexer": "ipython3",
   "version": "3.8.5"
  }
 },
 "nbformat": 4,
 "nbformat_minor": 4
}
