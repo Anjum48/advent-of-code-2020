{
 "cells": [
  {
   "cell_type": "code",
   "execution_count": 1,
   "metadata": {
    "ExecuteTime": {
     "end_time": "2020-12-23T10:28:04.237311Z",
     "start_time": "2020-12-23T10:28:04.152282Z"
    }
   },
   "outputs": [],
   "source": [
    "import numpy as np\n",
    "from tqdm.notebook import tqdm"
   ]
  },
  {
   "cell_type": "code",
   "execution_count": 7,
   "metadata": {
    "ExecuteTime": {
     "end_time": "2020-12-23T10:33:27.804978Z",
     "start_time": "2020-12-23T10:33:27.795965Z"
    }
   },
   "outputs": [],
   "source": [
    "def pickup_cups(current_cup, cup_list):\n",
    "    current_cup_idx = cups.index(current_cup)\n",
    "    cup_list = cup_list[current_cup_idx + 1:] + cup_list[:current_cup_idx + 1]\n",
    "    return cup_list[:3]\n",
    "\n",
    "\n",
    "def select_destination(current_cup, active_cups, max_cup=9):\n",
    "    selection = current_cup - 1 if current_cup != 1 else max_cup\n",
    "    while selection not in active_cups:\n",
    "        selection -= 1\n",
    "        if selection == 0:\n",
    "            selection = max_cup\n",
    "    return selection\n",
    "\n",
    "\n",
    "def move_cups(cups, current_cup, max_cup=9):\n",
    "    pick_up = pickup_cups(current_cup, cups)\n",
    "    active_cups = [c for c in cups if c not in pick_up]\n",
    "    dest = select_destination(current_cup, active_cups, max_cup)\n",
    "    dest_idx = active_cups.index(dest)\n",
    "    updated_cups = active_cups[:dest_idx + 1] + pick_up + active_cups[dest_idx + 1:]\n",
    "    current_cup_idx = updated_cups.index(current_cup)\n",
    "    try:\n",
    "        new_current = updated_cups[current_cup_idx + 1]\n",
    "    except IndexError:\n",
    "        new_current = updated_cups[0]\n",
    "    return updated_cups, new_current"
   ]
  },
  {
   "cell_type": "code",
   "execution_count": 8,
   "metadata": {
    "ExecuteTime": {
     "end_time": "2020-12-23T10:33:28.240356Z",
     "start_time": "2020-12-23T10:33:28.236146Z"
    }
   },
   "outputs": [],
   "source": [
    "cups = 389125467\n",
    "# cups = 476138259\n",
    "cups = [int(x) for x in str(cups)]\n",
    "current_cup = cups[0]\n",
    "max_cup = max(cups)"
   ]
  },
  {
   "cell_type": "code",
   "execution_count": 9,
   "metadata": {
    "ExecuteTime": {
     "end_time": "2020-12-23T10:33:28.635105Z",
     "start_time": "2020-12-23T10:33:28.628010Z"
    }
   },
   "outputs": [
    {
     "data": {
      "text/plain": [
       "'67384529'"
      ]
     },
     "execution_count": 9,
     "metadata": {},
     "output_type": "execute_result"
    }
   ],
   "source": [
    "for _ in range(100):\n",
    "    cups, current_cup = move_cups(cups, current_cup, max_cup)\n",
    "    \n",
    "one_idx = cups.index(1)\n",
    "ordered_cups = cups[one_idx+1:] + cups[:one_idx]\n",
    "\"\".join([str(c) for c in ordered_cups])"
   ]
  },
  {
   "cell_type": "markdown",
   "metadata": {},
   "source": [
    "# Part 2"
   ]
  },
  {
   "cell_type": "code",
   "execution_count": 41,
   "metadata": {
    "ExecuteTime": {
     "end_time": "2020-12-23T10:47:42.183327Z",
     "start_time": "2020-12-23T10:47:42.123784Z"
    }
   },
   "outputs": [],
   "source": [
    "# cups = 389125467\n",
    "cups = 476138259\n",
    "cups = [int(x) for x in str(cups)]+ list(np.arange(10, 1000001))\n",
    "current_cup = cups[0]"
   ]
  },
  {
   "cell_type": "code",
   "execution_count": 42,
   "metadata": {
    "ExecuteTime": {
     "end_time": "2020-12-23T10:47:42.340718Z",
     "start_time": "2020-12-23T10:47:42.338242Z"
    }
   },
   "outputs": [],
   "source": [
    "# for _ in tqdm(range(10000000)):\n",
    "#     cups, current_cup = move_cups(cups, current_cup)\n",
    "    \n",
    "# one_idx = cups.index(1)\n",
    "# cups[one_idx + 1], cups[one_idx + 2], cups[one_idx + 1] * cups[one_idx + 2]"
   ]
  },
  {
   "cell_type": "markdown",
   "metadata": {},
   "source": [
    "My solution is too slow due to indexing :(\n",
    "\n",
    "This solution is very clever\n",
    "https://twitter.com/jatowler/status/1341658270554083328/photo/1"
   ]
  },
  {
   "cell_type": "code",
   "execution_count": 43,
   "metadata": {
    "ExecuteTime": {
     "end_time": "2020-12-23T10:47:42.765494Z",
     "start_time": "2020-12-23T10:47:42.762246Z"
    }
   },
   "outputs": [],
   "source": [
    "from collections import defaultdict"
   ]
  },
  {
   "cell_type": "code",
   "execution_count": 44,
   "metadata": {
    "ExecuteTime": {
     "end_time": "2020-12-23T10:48:17.904577Z",
     "start_time": "2020-12-23T10:47:43.291233Z"
    }
   },
   "outputs": [
    {
     "data": {
      "application/vnd.jupyter.widget-view+json": {
       "model_id": "0b766a66412b42cfa8aebc1f16dc04c5",
       "version_major": 2,
       "version_minor": 0
      },
      "text/plain": [
       "HBox(children=(HTML(value=''), FloatProgress(value=0.0, max=10000000.0), HTML(value='')))"
      ]
     },
     "metadata": {},
     "output_type": "display_data"
    },
    {
     "name": "stdout",
     "output_type": "stream",
     "text": [
      "\n"
     ]
    },
    {
     "data": {
      "text/plain": [
       "156180332979"
      ]
     },
     "execution_count": 44,
     "metadata": {},
     "output_type": "execute_result"
    }
   ],
   "source": [
    "class Node:\n",
    "    def __init__(self, val=None):\n",
    "        self.val = val\n",
    "        self.next = None\n",
    "        \n",
    "        \n",
    "cup_index = defaultdict(Node)\n",
    "\n",
    "for i in range(len(cups)):\n",
    "    cup_index[cups[i]].val = cups[i]\n",
    "    cup_index[cups[i]].next = cup_index[cups[(i + 1) % len(cups)]]\n",
    "    \n",
    "cup = cup_index[cups[0]]  # Initial cup\n",
    "for i in tqdm(range(10000000)):\n",
    "    pickup = cup.next  # Identify the next cup\n",
    "    cup.next = pickup.next.next.next # Pick up 3 cups\n",
    "    \n",
    "    dest = cup.val  # Choose a destination\n",
    "    while dest in [cup.val, pickup.val, pickup.next.val, pickup.next.next.val]:\n",
    "        dest -= 1\n",
    "        if dest < 1: dest = len(cups)\n",
    "            \n",
    "    dest_idx = cup_index[dest]  # Find the destination\n",
    "    \n",
    "    pickup.next.next.next = dest_idx.next  # Put the cups down\n",
    "    dest_idx.next = pickup\n",
    "    \n",
    "    cup = cup.next  # Pick new cup\n",
    "    \n",
    "cup_index[1].next.val * cup_index[1].next.next.val"
   ]
  },
  {
   "cell_type": "code",
   "execution_count": null,
   "metadata": {},
   "outputs": [],
   "source": []
  }
 ],
 "metadata": {
  "kernelspec": {
   "display_name": "Python 3.8.1 64-bit ('kaggle': conda)",
   "language": "python",
   "name": "python38164bitkaggleconda0013a04193b845a7a07c668fa6fedcae"
  },
  "language_info": {
   "codemirror_mode": {
    "name": "ipython",
    "version": 3
   },
   "file_extension": ".py",
   "mimetype": "text/x-python",
   "name": "python",
   "nbconvert_exporter": "python",
   "pygments_lexer": "ipython3",
   "version": "3.8.5"
  }
 },
 "nbformat": 4,
 "nbformat_minor": 4
}
