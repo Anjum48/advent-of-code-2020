{
 "cells": [
  {
   "cell_type": "code",
   "execution_count": 1,
   "metadata": {
    "ExecuteTime": {
     "end_time": "2020-12-21T13:27:09.619964Z",
     "start_time": "2020-12-21T13:27:09.560992Z"
    }
   },
   "outputs": [],
   "source": [
    "import numpy as np\n",
    "import re\n",
    "from collections import Counter, OrderedDict\n",
    "\n",
    "with open(\"input/day21_input.txt\", \"r\") as f:\n",
    "    data = [l.rstrip() for l in f.readlines()]"
   ]
  },
  {
   "cell_type": "code",
   "execution_count": 2,
   "metadata": {
    "ExecuteTime": {
     "end_time": "2020-12-21T13:27:09.624581Z",
     "start_time": "2020-12-21T13:27:09.621397Z"
    }
   },
   "outputs": [],
   "source": [
    "ingredients, allergens = [], []\n",
    "\n",
    "for line in data:\n",
    "    bracket = line.index(\"(\") - 1\n",
    "    ingredients.append(line[:bracket].split(\" \"))\n",
    "    allergens.append(line[bracket + 11:-1].replace(\",\", \"\").split(\" \"))"
   ]
  },
  {
   "cell_type": "code",
   "execution_count": 3,
   "metadata": {
    "ExecuteTime": {
     "end_time": "2020-12-21T13:27:09.638067Z",
     "start_time": "2020-12-21T13:27:09.625653Z"
    }
   },
   "outputs": [
    {
     "data": {
      "text/plain": [
       "(8, 200)"
      ]
     },
     "execution_count": 3,
     "metadata": {},
     "output_type": "execute_result"
    }
   ],
   "source": [
    "allergen_count = Counter([a for b in allergens for a in b])\n",
    "ingredient_count = Counter([a for b in ingredients for a in b])\n",
    "\n",
    "len(allergen_count.keys()), len(ingredient_count.keys())"
   ]
  },
  {
   "cell_type": "code",
   "execution_count": 4,
   "metadata": {
    "ExecuteTime": {
     "end_time": "2020-12-21T13:27:09.645092Z",
     "start_time": "2020-12-21T13:27:09.639419Z"
    }
   },
   "outputs": [],
   "source": [
    "def map_allergen(allergen, existing_map={}):\n",
    "    ingredient_count = Counter()\n",
    "    occurances = 0\n",
    "\n",
    "    for i, a in zip(ingredients, allergens):\n",
    "        if allergen in a:\n",
    "            ingredient_count.update(i)\n",
    "            occurances += 1\n",
    "    \n",
    "    mapping_candidates = []\n",
    "    for k, v in ingredient_count.items():\n",
    "        if v == occurances and k not in existing_map.values():\n",
    "            mapping_candidates.append(k)\n",
    "    \n",
    "    return mapping_candidates"
   ]
  },
  {
   "cell_type": "code",
   "execution_count": 5,
   "metadata": {
    "ExecuteTime": {
     "end_time": "2020-12-21T13:27:09.652443Z",
     "start_time": "2020-12-21T13:27:09.645978Z"
    }
   },
   "outputs": [
    {
     "data": {
      "text/plain": [
       "{'eggs': 'nlxsmb',\n",
       " 'peanuts': 'ttxvphb',\n",
       " 'fish': 'rnbhjk',\n",
       " 'wheat': 'jpvz',\n",
       " 'dairy': 'vv',\n",
       " 'soy': 'trmzkcfg',\n",
       " 'shellfish': 'qmkz',\n",
       " 'nuts': 'bvnkk'}"
      ]
     },
     "execution_count": 5,
     "metadata": {},
     "output_type": "execute_result"
    }
   ],
   "source": [
    "allergen_map = {}\n",
    "candidates = list(allergen_count.keys())\n",
    "\n",
    "while len(candidates) > 0:\n",
    "    for a in candidates:\n",
    "        out = map_allergen(a, allergen_map)\n",
    "        if len(out) == 1:  # Single match only\n",
    "            allergen_map[a] = out[0]\n",
    "            candidates.remove(a)\n",
    "            break\n",
    "            \n",
    "allergen_map"
   ]
  },
  {
   "cell_type": "code",
   "execution_count": 6,
   "metadata": {
    "ExecuteTime": {
     "end_time": "2020-12-21T13:27:09.657410Z",
     "start_time": "2020-12-21T13:27:09.653421Z"
    }
   },
   "outputs": [
    {
     "data": {
      "text/plain": [
       "2211"
      ]
     },
     "execution_count": 6,
     "metadata": {},
     "output_type": "execute_result"
    }
   ],
   "source": [
    "safe_ingredients = [i for i in ingredient_count.keys() if i not in allergen_map.values()]\n",
    "sum([ingredient_count[i] for i in safe_ingredients])"
   ]
  },
  {
   "cell_type": "markdown",
   "metadata": {},
   "source": [
    "# Part 2"
   ]
  },
  {
   "cell_type": "code",
   "execution_count": 7,
   "metadata": {
    "ExecuteTime": {
     "end_time": "2020-12-21T13:27:09.663885Z",
     "start_time": "2020-12-21T13:27:09.658740Z"
    }
   },
   "outputs": [
    {
     "data": {
      "text/plain": [
       "OrderedDict([('dairy', 'vv'),\n",
       "             ('eggs', 'nlxsmb'),\n",
       "             ('fish', 'rnbhjk'),\n",
       "             ('nuts', 'bvnkk'),\n",
       "             ('peanuts', 'ttxvphb'),\n",
       "             ('shellfish', 'qmkz'),\n",
       "             ('soy', 'trmzkcfg'),\n",
       "             ('wheat', 'jpvz')])"
      ]
     },
     "execution_count": 7,
     "metadata": {},
     "output_type": "execute_result"
    }
   ],
   "source": [
    "sorted_allergens = OrderedDict(sorted(allergen_map.items(), key=lambda t: t[0]))\n",
    "sorted_allergens"
   ]
  },
  {
   "cell_type": "code",
   "execution_count": 8,
   "metadata": {
    "ExecuteTime": {
     "end_time": "2020-12-21T13:27:09.667992Z",
     "start_time": "2020-12-21T13:27:09.664885Z"
    }
   },
   "outputs": [
    {
     "data": {
      "text/plain": [
       "'vv,nlxsmb,rnbhjk,bvnkk,ttxvphb,qmkz,trmzkcfg,jpvz'"
      ]
     },
     "execution_count": 8,
     "metadata": {},
     "output_type": "execute_result"
    }
   ],
   "source": [
    "\",\".join(sorted_allergens.values())"
   ]
  },
  {
   "cell_type": "code",
   "execution_count": null,
   "metadata": {},
   "outputs": [],
   "source": []
  }
 ],
 "metadata": {
  "kernelspec": {
   "display_name": "Python 3.8.1 64-bit ('kaggle': conda)",
   "language": "python",
   "name": "python38164bitkaggleconda0013a04193b845a7a07c668fa6fedcae"
  },
  "language_info": {
   "codemirror_mode": {
    "name": "ipython",
    "version": 3
   },
   "file_extension": ".py",
   "mimetype": "text/x-python",
   "name": "python",
   "nbconvert_exporter": "python",
   "pygments_lexer": "ipython3",
   "version": "3.8.5"
  }
 },
 "nbformat": 4,
 "nbformat_minor": 4
}
