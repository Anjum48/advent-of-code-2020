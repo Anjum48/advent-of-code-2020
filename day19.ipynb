{
 "cells": [
  {
   "cell_type": "markdown",
   "metadata": {},
   "source": [
    "# Day 19\n",
    "\n",
    "Needed a lot of help from here! https://www.youtube.com/watch?v=jls4zhEhlog&feature=youtu.be"
   ]
  },
  {
   "cell_type": "code",
   "execution_count": 1,
   "metadata": {
    "ExecuteTime": {
     "end_time": "2020-12-19T11:06:35.587172Z",
     "start_time": "2020-12-19T11:06:35.583552Z"
    }
   },
   "outputs": [],
   "source": [
    "import re\n",
    "\n",
    "with open(\"input/day19_input.txt\", \"r\") as f:\n",
    "    data = [l.rstrip() for l in f.readlines()]"
   ]
  },
  {
   "cell_type": "code",
   "execution_count": 2,
   "metadata": {
    "ExecuteTime": {
     "end_time": "2020-12-19T11:06:35.591985Z",
     "start_time": "2020-12-19T11:06:35.588613Z"
    }
   },
   "outputs": [],
   "source": [
    "rules, messages = {}, []\n",
    "\n",
    "for line in data:\n",
    "    if \":\" in line:\n",
    "        number, rule = line.split(\":\")\n",
    "        rules[number] = rule.strip().strip('\"').split()\n",
    "    else:\n",
    "        messages.append(line)"
   ]
  },
  {
   "cell_type": "code",
   "execution_count": 3,
   "metadata": {
    "ExecuteTime": {
     "end_time": "2020-12-19T11:06:35.599287Z",
     "start_time": "2020-12-19T11:06:35.593165Z"
    }
   },
   "outputs": [],
   "source": [
    "def construct_rule(rule):\n",
    "    if rule == \"a\" or rule == \"b\":\n",
    "        return rule\n",
    "    elif rule == \"|\":\n",
    "        return \"|\"\n",
    "    else:\n",
    "        return \"(\" + construct_tree(rule) + \")\"\n",
    "\n",
    "    \n",
    "def construct_tree(rule_number=\"0\"):\n",
    "    return \"\".join(construct_rule(r) for r in rules[rule_number])"
   ]
  },
  {
   "cell_type": "code",
   "execution_count": 4,
   "metadata": {
    "ExecuteTime": {
     "end_time": "2020-12-19T11:06:35.612468Z",
     "start_time": "2020-12-19T11:06:35.600627Z"
    }
   },
   "outputs": [
    {
     "data": {
      "text/plain": [
       "'(((b)(((((b)(((a)(b))(b)|((a)(a)|(b)(a))(a))|(a)(((a)(a))(a)|((a)(b))(b)))(b)|((a)(((b)(b)|(a)(a))(b)|((a)(b)|(b)(b))(a))|(b)((a)(((b)|(a))(b)|(b)(a))|(b)((a)(a))))(a))(b)|(((((b)(b)|(a)(a))(b)|((a)(b)|(b)(a))(a))(b)|((b)(((b)|(a))(b)|(b)(a))|(a)((b)(a)|(a)((b)|(a))))(a))(b)|((b)((b)((b)(b)|(a)(a))|(a)((a)(a)))|(a)((b)((a)(a)|(b)(a))|(a)((b)(a)|(a)((b)|(a)))))(a))(a))(a)|((b)((((a)((a)(a)|(b)(a))|(b)((b)(b)|(a)(a)))(a)|((a)((a)(a))|(b)((a)(a)|(b)(a)))(b))(a)|((b)(((a)(b)|(b)(a))(a)|((a)(a)|(b)((b)|(a)))(b))|(a)((a)((a)(a)|(b)((b)|(a)))|(b)((b)(a)|(a)((b)|(a)))))(b))|(a)((((a)((b)(a)|(a)((b)|(a)))|(b)((b)(a)))(a)|((b)((a)(a)))(b))(b)|((((b)(a))(a)|((a)(b)|(b)(a))(b))(a)|(((b)(b)|(b)(a))(b)|((a)(a))(a))(b))(a)))(b))|(a)(((b)(((b)((b)((a)(a))|(a)((a)(a)))|(a)((b)((a)(a)|(b)((b)|(a)))))(b)|((b)(((b)(b)|(a)(a))(b)|((a)(a)|(a)(b))(a))|(a)(((a)(a)|(b)((b)|(a)))(a)|((a)(a)|(b)(a))(b)))(a))|(a)((b)((a)((b)((b)(b)|(a)((b)|(a)))|(a)((b)(b)|(b)(a)))|(b)(((a)(a)|(a)(b))(a)|((a)(a)|(b)((b)|(a)))(b)))|(a)(((b)((a)(b)|(b)(b))|(a)((a)(a)|(b)((b)|(a))))(a)|(((a)(a)|(b)(a))(b)|((a)(a))(a))(b))))(a)|(((((a)((a)(b)|(b)(b))|(b)((a)(a)|(a)(b)))(b)|((b)((a)(a))|(a)((a)(a)))(a))(b)|((b)(((a)(b))(a)|((a)(a)|(b)(a))(b))|(a)((b)((b)(a)|(a)((b)|(a)))|(a)(((b)|(a))(b)|(b)(a))))(a))(a)|((a)(((a)((b)(a)|(a)((b)|(a)))|(b)((a)(a)|(b)((b)|(a))))(a)|(((b)(a)|(a)((b)|(a)))(a)|((a)(a)|(a)(b))(b))(b))|(b)(((((b)|(a))(b)|(b)(a))(b)|((a)(a)|(b)((b)|(a)))(a))(a)|((b)((a)(a))|(a)((b)(b)|(a)((b)|(a))))(b)))(b))(b))))(((b)(((((b)(((a)(b))(b)|((a)(a)|(b)(a))(a))|(a)(((a)(a))(a)|((a)(b))(b)))(b)|((a)(((b)(b)|(a)(a))(b)|((a)(b)|(b)(b))(a))|(b)((a)(((b)|(a))(b)|(b)(a))|(b)((a)(a))))(a))(b)|(((((b)(b)|(a)(a))(b)|((a)(b)|(b)(a))(a))(b)|((b)(((b)|(a))(b)|(b)(a))|(a)((b)(a)|(a)((b)|(a))))(a))(b)|((b)((b)((b)(b)|(a)(a))|(a)((a)(a)))|(a)((b)((a)(a)|(b)(a))|(a)((b)(a)|(a)((b)|(a)))))(a))(a))(a)|((b)((((a)((a)(a)|(b)(a))|(b)((b)(b)|(a)(a)))(a)|((a)((a)(a))|(b)((a)(a)|(b)(a)))(b))(a)|((b)(((a)(b)|(b)(a))(a)|((a)(a)|(b)((b)|(a)))(b))|(a)((a)((a)(a)|(b)((b)|(a)))|(b)((b)(a)|(a)((b)|(a)))))(b))|(a)((((a)((b)(a)|(a)((b)|(a)))|(b)((b)(a)))(a)|((b)((a)(a)))(b))(b)|((((b)(a))(a)|((a)(b)|(b)(a))(b))(a)|(((b)(b)|(b)(a))(b)|((a)(a))(a))(b))(a)))(b))|(a)(((b)(((b)((b)((a)(a))|(a)((a)(a)))|(a)((b)((a)(a)|(b)((b)|(a)))))(b)|((b)(((b)(b)|(a)(a))(b)|((a)(a)|(a)(b))(a))|(a)(((a)(a)|(b)((b)|(a)))(a)|((a)(a)|(b)(a))(b)))(a))|(a)((b)((a)((b)((b)(b)|(a)((b)|(a)))|(a)((b)(b)|(b)(a)))|(b)(((a)(a)|(a)(b))(a)|((a)(a)|(b)((b)|(a)))(b)))|(a)(((b)((a)(b)|(b)(b))|(a)((a)(a)|(b)((b)|(a))))(a)|(((a)(a)|(b)(a))(b)|((a)(a))(a))(b))))(a)|(((((a)((a)(b)|(b)(b))|(b)((a)(a)|(a)(b)))(b)|((b)((a)(a))|(a)((a)(a)))(a))(b)|((b)(((a)(b))(a)|((a)(a)|(b)(a))(b))|(a)((b)((b)(a)|(a)((b)|(a)))|(a)(((b)|(a))(b)|(b)(a))))(a))(a)|((a)(((a)((b)(a)|(a)((b)|(a)))|(b)((a)(a)|(b)((b)|(a))))(a)|(((b)(a)|(a)((b)|(a)))(a)|((a)(a)|(a)(b))(b))(b))|(b)(((((b)|(a))(b)|(b)(a))(b)|((a)(a)|(b)((b)|(a)))(a))(a)|((b)((a)(a))|(a)((b)(b)|(a)((b)|(a))))(b)))(b))(b)))(((b)((b)((b)((a)((b)((a)(a)|(b)((b)|(a)))|(a)((a)(b)))|(b)(((b)(a))(b)|((b)(b)|(a)(a))(a)))|(a)((b)((b)((a)(a)|(b)((b)|(a)))|(a)((b)(a)))|(a)(((a)(b))(b)|((b)(b)|(b)(a))(a))))|(a)(((a)(((b)(b))(a)|(((b)|(a))((b)|(a)))(b))|(b)((((b)|(a))(b)|(b)(a))(b)|((b)(b)|(a)((b)|(a)))(a)))(b)|(((a)(((b)|(a))(b)|(b)(a))|(b)((a)(a)|(b)(a)))(b)|(((b)(b)|(a)(a))(b)|((b)(b)|(a)((b)|(a)))(a))(a))(a)))|(a)(((a)(((b)((a)(b))|(a)((b)(b)))(a)|(((b)(b)|(b)(a))(b)|((b)(b))(a))(b))|(b)(((a)((b)(a))|(b)(((b)|(a))(b)|(b)(a)))(b)|(((a)(a))(b)|((a)(b))(a))(a)))(b)|((a)((a)((a)((b)(b)|(a)(a))|(b)((a)(b)))|(b)((a)((a)(b)|(b)(b))|(b)((a)(b)|(b)(a))))|(b)((b)((b)(((b)|(a))((b)|(a)))|(a)((b)(b)|(a)((b)|(a))))|(a)(((b)(a))(b)|((b)(b)|(a)(a))(a))))(a)))(b)|((a)((a)((b)((b)(((a)(b))(b)|((b)(b)|(b)(a))(a))|(a)(((b)(b)|(a)(a))(a)|((a)(a))(b)))|(a)((b)(((a)(a)|(b)(a))(a)|((a)(a)|(b)((b)|(a)))(b))|(a)((a)((b)(a))|(b)((a)(b)|(b)(b)))))|(b)(((((a)(a)|(b)((b)|(a)))(b)|((a)(a))(a))(a)|((((b)|(a))((b)|(a)))(a)|((a)(a)|(b)((b)|(a)))(b))(b))(b)|(((a)((a)(b))|(b)((b)(b)|(b)(a)))(a)|((a)((a)(b)|(b)(b))|(b)((a)(b)|(b)(a)))(b))(a)))|(b)((a)((a)((b)(((b)(a))(a)|((a)(b)|(b)(a))(b))|(a)((a)((a)(b))|(b)((b)(b)|(b)(a))))|(b)((a)((a)((a)(b)|(b)(b))|(b)((b)(b)|(a)((b)|(a))))|(b)(((a)(b)|(b)(b))(b)|(((b)|(a))(b)|(b)(a))(a))))|(b)(((a)((a)((b)(b)|(a)(a))|(b)((a)(b)))|(b)((((b)|(a))(b)|(b)(a))((b)|(a))))(b)|((b)(((a)(b))(b)|((a)(b)|(b)(a))(a))|(a)((a)((a)(b)|(b)(a))|(b)((a)(a)|(b)((b)|(a)))))(a))))(a)))'"
      ]
     },
     "execution_count": 4,
     "metadata": {},
     "output_type": "execute_result"
    }
   ],
   "source": [
    "construct_tree(\"0\")"
   ]
  },
  {
   "cell_type": "code",
   "execution_count": 5,
   "metadata": {
    "ExecuteTime": {
     "end_time": "2020-12-19T11:06:35.646045Z",
     "start_time": "2020-12-19T11:06:35.614088Z"
    }
   },
   "outputs": [
    {
     "name": "stdout",
     "output_type": "stream",
     "text": [
      "168\n"
     ]
    }
   ],
   "source": [
    "re_exp = \"^\"+construct_tree(\"0\") + \"$\"\n",
    "\n",
    "print(sum([1 for m in messages if re.match(re_exp, m)]))"
   ]
  },
  {
   "cell_type": "markdown",
   "metadata": {},
   "source": [
    "# Part 2"
   ]
  },
  {
   "cell_type": "code",
   "execution_count": 6,
   "metadata": {
    "ExecuteTime": {
     "end_time": "2020-12-19T11:06:35.650330Z",
     "start_time": "2020-12-19T11:06:35.647145Z"
    }
   },
   "outputs": [],
   "source": [
    "def construct_tree(rule_number=\"0\"):\n",
    "    if rule_number == \"8\":\n",
    "        return \"(\" + construct_tree(\"42\") + \")+\"\n",
    "    elif rule_number == \"11\":\n",
    "        return \"|\".join(construct_rule(\"42\") * n + construct_rule(\"31\") * n for n in range(1, 10))  # Max 10 recursions\n",
    "    else:\n",
    "        return \"\".join(construct_rule(r) for r in rules[rule_number])"
   ]
  },
  {
   "cell_type": "code",
   "execution_count": 7,
   "metadata": {
    "ExecuteTime": {
     "end_time": "2020-12-19T11:06:36.765860Z",
     "start_time": "2020-12-19T11:06:35.651697Z"
    }
   },
   "outputs": [
    {
     "name": "stdout",
     "output_type": "stream",
     "text": [
      "277\n"
     ]
    }
   ],
   "source": [
    "re_exp = \"^\"+construct_tree(\"0\") + \"$\"\n",
    "\n",
    "print(sum([1 for m in messages if re.match(re_exp, m)]))"
   ]
  },
  {
   "cell_type": "code",
   "execution_count": null,
   "metadata": {},
   "outputs": [],
   "source": []
  }
 ],
 "metadata": {
  "kernelspec": {
   "display_name": "Python 3.8.1 64-bit ('kaggle': conda)",
   "language": "python",
   "name": "python38164bitkaggleconda0013a04193b845a7a07c668fa6fedcae"
  },
  "language_info": {
   "codemirror_mode": {
    "name": "ipython",
    "version": 3
   },
   "file_extension": ".py",
   "mimetype": "text/x-python",
   "name": "python",
   "nbconvert_exporter": "python",
   "pygments_lexer": "ipython3",
   "version": "3.8.5"
  }
 },
 "nbformat": 4,
 "nbformat_minor": 4
}
