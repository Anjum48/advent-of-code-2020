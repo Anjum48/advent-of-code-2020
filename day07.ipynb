{
 "cells": [
  {
   "cell_type": "code",
   "execution_count": 1,
   "metadata": {
    "ExecuteTime": {
     "end_time": "2020-12-06T10:44:19.049386Z",
     "start_time": "2020-12-06T10:44:18.873702Z"
    }
   },
   "outputs": [],
   "source": [
    "import pandas as pd\n",
    "import numpy as np\n",
    "import re\n",
    "from pathlib import Path\n",
    "import networkx as nx\n",
    "\n",
    "INPUT_PATH = Path(\"input\")"
   ]
  },
  {
   "cell_type": "code",
   "execution_count": 2,
   "metadata": {},
   "outputs": [],
   "source": [
    "target_colour = \"shiny gold\""
   ]
  },
  {
   "cell_type": "code",
   "execution_count": 3,
   "metadata": {},
   "outputs": [],
   "source": [
    "re_parent = \"^(\\w+\\s\\w+)\\sbags\"\n",
    "re_child = \"(\\d)\\s(\\w+\\s\\w+)\\sbag\""
   ]
  },
  {
   "cell_type": "code",
   "execution_count": 4,
   "metadata": {},
   "outputs": [],
   "source": [
    "s = \"muted yellow bags contain 2 shiny gold bags, 9 faded blue bags.\""
   ]
  },
  {
   "cell_type": "code",
   "execution_count": 5,
   "metadata": {},
   "outputs": [
    {
     "data": {
      "text/plain": [
       "(['muted yellow'], [('2', 'shiny gold'), ('9', 'faded blue')])"
      ]
     },
     "execution_count": 5,
     "metadata": {},
     "output_type": "execute_result"
    }
   ],
   "source": [
    "re.findall(re_parent, s), re.findall(re_child, s)"
   ]
  },
  {
   "cell_type": "code",
   "execution_count": 6,
   "metadata": {},
   "outputs": [
    {
     "data": {
      "text/plain": [
       "103"
      ]
     },
     "execution_count": 6,
     "metadata": {},
     "output_type": "execute_result"
    }
   ],
   "source": [
    "G = nx.DiGraph()\n",
    "\n",
    "with open(INPUT_PATH / \"day07_input.txt\", \"r\") as f:   \n",
    "    for row in f.readlines():\n",
    "        parent = re.findall(re_parent, row)[0]\n",
    "        for number, child in re.findall(re_child, row):\n",
    "            G.add_edge(parent, child, num_bags=int(number))\n",
    "            \n",
    "len(nx.ancestors(G, target_colour))"
   ]
  },
  {
   "cell_type": "markdown",
   "metadata": {},
   "source": [
    "# Part 2"
   ]
  },
  {
   "cell_type": "code",
   "execution_count": 7,
   "metadata": {},
   "outputs": [],
   "source": [
    "def total_bags(target_bag):\n",
    "    total = 0\n",
    "\n",
    "    for successor in G.successors(target_bag):\n",
    "        n = G.get_edge_data(target_bag, successor)[\"num_bags\"]\n",
    "        new_total = n * (total_bags(successor) + 1)\n",
    "        total += new_total\n",
    "            \n",
    "    return total"
   ]
  },
  {
   "cell_type": "code",
   "execution_count": 8,
   "metadata": {},
   "outputs": [
    {
     "data": {
      "text/plain": [
       "1469"
      ]
     },
     "execution_count": 8,
     "metadata": {},
     "output_type": "execute_result"
    }
   ],
   "source": [
    "total_bags(target_colour)"
   ]
  },
  {
   "cell_type": "code",
   "execution_count": null,
   "metadata": {},
   "outputs": [],
   "source": []
  }
 ],
 "metadata": {
  "kernelspec": {
   "display_name": "Python 3",
   "language": "python",
   "name": "python3"
  },
  "language_info": {
   "codemirror_mode": {
    "name": "ipython",
    "version": 3
   },
   "file_extension": ".py",
   "mimetype": "text/x-python",
   "name": "python",
   "nbconvert_exporter": "python",
   "pygments_lexer": "ipython3",
   "version": "3.7.7"
  }
 },
 "nbformat": 4,
 "nbformat_minor": 4
}
