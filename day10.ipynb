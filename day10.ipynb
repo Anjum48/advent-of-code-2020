{
 "cells": [
  {
   "cell_type": "code",
   "execution_count": 7,
   "metadata": {},
   "outputs": [],
   "source": [
    "from pathlib import Path\n",
    "from itertools import groupby\n",
    "import numpy as np\n",
    "\n",
    "INPUT_PATH = Path(\"input\")"
   ]
  },
  {
   "cell_type": "code",
   "execution_count": 15,
   "metadata": {},
   "outputs": [],
   "source": [
    "with open(INPUT_PATH / \"day10_input.txt\", \"r\") as f:\n",
    "    adapters = sorted([int(l.rstrip()) for l in f.readlines()])"
   ]
  },
  {
   "cell_type": "code",
   "execution_count": 18,
   "metadata": {},
   "outputs": [
    {
     "name": "stdout",
     "output_type": "stream",
     "text": [
      "Difference of 1, count: 69\n",
      "Difference of 3, count: 40\n",
      "Product: 2760\n"
     ]
    }
   ],
   "source": [
    "adapters = [0] + adapters + [adapters[-1] + 3]\n",
    "\n",
    "unique, counts = np.unique(np.diff(adapter_combinations), return_counts=True)\n",
    "diff_dict = {k: v for k, v in zip(unique, counts)}\n",
    "\n",
    "for k, v in diff_dict.items():\n",
    "    print(f\"Difference of {k}, count: {v}\")\n",
    "print(f\"Product: {diff_dict[1] * diff_dict[3]}\")"
   ]
  },
  {
   "cell_type": "markdown",
   "metadata": {},
   "source": [
    "# Part 2\n",
    "There are only jumps of 1 & 3. This is the key.."
   ]
  },
  {
   "cell_type": "code",
   "execution_count": 19,
   "metadata": {},
   "outputs": [],
   "source": [
    "def find_longest_seq(seq, value=1):\n",
    "    return max(len(list(y)) for (c,y) in groupby(seq) if c==value)\n",
    "\n",
    "\n",
    "def count_sequences(seq, length=2,  value=1):\n",
    "    count = 0\n",
    "    for v, y in groupby(d):\n",
    "        if v == value and len(list(y)) == length:\n",
    "            count += 1\n",
    "    return count"
   ]
  },
  {
   "cell_type": "code",
   "execution_count": 20,
   "metadata": {},
   "outputs": [
    {
     "data": {
      "text/plain": [
       "4"
      ]
     },
     "execution_count": 20,
     "metadata": {},
     "output_type": "execute_result"
    }
   ],
   "source": [
    "d = np.diff(adapter_combinations)\n",
    "\n",
    "find_longest_seq(d, 1)"
   ]
  },
  {
   "cell_type": "markdown",
   "metadata": {},
   "source": [
    "**There is a max run of 4 adapters with a delta of 1**\n",
    "\n",
    "We can get to 4 in 7 different ways:\n",
    "* 4 = 1 + 1 + 1 + 1\n",
    "* 4 = 1 + 1 + 1 + 2\n",
    "* 4 = 1 + 2 + 1\n",
    "* 4 = 2 + 1 + 1\n",
    "* 4 = 2 + 2\n",
    "* 4 = 1 + 3\n",
    "* 4 = 3 + 1\n",
    "\n",
    "And can get to 3 in 4 different ways:\n",
    "* 3 = 1 + 1 + 1\n",
    "* 3 = 1 + 2\n",
    "* 3 = 2 + 1\n",
    "* 3 = 3\n",
    "\n",
    "And can get to 2 in 2 different ways:\n",
    "* 2 = 1 + 1\n",
    "* 2 = 2"
   ]
  },
  {
   "cell_type": "code",
   "execution_count": 21,
   "metadata": {},
   "outputs": [
    {
     "data": {
      "text/plain": [
       "13816758796288"
      ]
     },
     "execution_count": 21,
     "metadata": {},
     "output_type": "execute_result"
    }
   ],
   "source": [
    "mapping = {1: 1, 2: 2, 3: 4, 4: 7}\n",
    "multipliers = []\n",
    "\n",
    "for i in range(1, find_longest_seq(d, 1) + 1):\n",
    "    multipliers.append(mapping[i] ** count_sequences(d, i))\n",
    "                       \n",
    "np.product(multipliers, dtype=np.int64)"
   ]
  },
  {
   "cell_type": "code",
   "execution_count": null,
   "metadata": {},
   "outputs": [],
   "source": []
  }
 ],
 "metadata": {
  "kernelspec": {
   "display_name": "rico",
   "language": "python",
   "name": "rico"
  },
  "language_info": {
   "codemirror_mode": {
    "name": "ipython",
    "version": 3
   },
   "file_extension": ".py",
   "mimetype": "text/x-python",
   "name": "python",
   "nbconvert_exporter": "python",
   "pygments_lexer": "ipython3",
   "version": "3.8.3"
  }
 },
 "nbformat": 4,
 "nbformat_minor": 4
}
