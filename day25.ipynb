{
 "cells": [
  {
   "cell_type": "code",
   "execution_count": 18,
   "metadata": {
    "ExecuteTime": {
     "end_time": "2020-12-25T14:11:52.504207Z",
     "start_time": "2020-12-25T14:11:52.499491Z"
    }
   },
   "outputs": [],
   "source": [
    "DIVIDER = 20201227\n",
    "\n",
    "def transform(number, loops):\n",
    "    value = 1\n",
    "    \n",
    "    for _ in range(loops):\n",
    "        value *= number\n",
    "        value = value % DIVIDER\n",
    "        \n",
    "    return value"
   ]
  },
  {
   "cell_type": "code",
   "execution_count": 30,
   "metadata": {
    "ExecuteTime": {
     "end_time": "2020-12-25T14:15:23.242527Z",
     "start_time": "2020-12-25T14:15:23.238167Z"
    }
   },
   "outputs": [],
   "source": [
    "assert transform(7, 8) == 5764801\n",
    "assert transform(7, 11) == 17807724\n",
    "assert transform(17807724, 8) == transform(5764801, 11) == 14897079"
   ]
  },
  {
   "cell_type": "code",
   "execution_count": 20,
   "metadata": {
    "ExecuteTime": {
     "end_time": "2020-12-25T14:11:52.860837Z",
     "start_time": "2020-12-25T14:11:52.858104Z"
    }
   },
   "outputs": [],
   "source": []
  },
  {
   "cell_type": "code",
   "execution_count": 21,
   "metadata": {
    "ExecuteTime": {
     "end_time": "2020-12-25T14:11:53.052600Z",
     "start_time": "2020-12-25T14:11:53.050252Z"
    }
   },
   "outputs": [],
   "source": [
    "# https://twitter.com/YassineAlouini/status/1342366307753340929\n",
    "from sympy.ntheory import discrete_log"
   ]
  },
  {
   "cell_type": "code",
   "execution_count": 27,
   "metadata": {
    "ExecuteTime": {
     "end_time": "2020-12-25T14:13:06.506052Z",
     "start_time": "2020-12-25T14:13:06.501037Z"
    }
   },
   "outputs": [],
   "source": [
    "assert discrete_log(DIVIDER, 17807724, 7) == 11\n",
    "assert discrete_log(DIVIDER, 5764801, 7) == 8"
   ]
  },
  {
   "cell_type": "code",
   "execution_count": 28,
   "metadata": {
    "ExecuteTime": {
     "end_time": "2020-12-25T14:14:05.623739Z",
     "start_time": "2020-12-25T14:14:05.620093Z"
    }
   },
   "outputs": [],
   "source": [
    "def solve(a, b):\n",
    "    loops = discrete_log(DIVIDER, a, 7)\n",
    "    enc_key = transform(b, loops)\n",
    "    return enc_key"
   ]
  },
  {
   "cell_type": "code",
   "execution_count": 31,
   "metadata": {
    "ExecuteTime": {
     "end_time": "2020-12-25T14:15:33.347126Z",
     "start_time": "2020-12-25T14:15:33.343121Z"
    }
   },
   "outputs": [],
   "source": [
    "assert solve(5764801, 17807724) == 14897079"
   ]
  },
  {
   "cell_type": "code",
   "execution_count": 32,
   "metadata": {
    "ExecuteTime": {
     "end_time": "2020-12-25T14:15:41.911342Z",
     "start_time": "2020-12-25T14:15:41.287611Z"
    }
   },
   "outputs": [
    {
     "data": {
      "text/plain": [
       "9177528"
      ]
     },
     "execution_count": 32,
     "metadata": {},
     "output_type": "execute_result"
    }
   ],
   "source": [
    "a = 8421034\n",
    "b = 15993936\n",
    "\n",
    "solve(a, b)"
   ]
  },
  {
   "cell_type": "code",
   "execution_count": null,
   "metadata": {},
   "outputs": [],
   "source": []
  }
 ],
 "metadata": {
  "kernelspec": {
   "display_name": "Python 3.8.1 64-bit ('kaggle': conda)",
   "language": "python",
   "name": "python38164bitkaggleconda0013a04193b845a7a07c668fa6fedcae"
  },
  "language_info": {
   "codemirror_mode": {
    "name": "ipython",
    "version": 3
   },
   "file_extension": ".py",
   "mimetype": "text/x-python",
   "name": "python",
   "nbconvert_exporter": "python",
   "pygments_lexer": "ipython3",
   "version": "3.8.5"
  }
 },
 "nbformat": 4,
 "nbformat_minor": 4
}
