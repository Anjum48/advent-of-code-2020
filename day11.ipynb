{
 "cells": [
  {
   "cell_type": "code",
   "execution_count": 1,
   "metadata": {
    "ExecuteTime": {
     "end_time": "2020-12-11T15:39:23.788699Z",
     "start_time": "2020-12-11T15:39:23.648647Z"
    }
   },
   "outputs": [],
   "source": [
    "from pathlib import Path\n",
    "import numpy as np\n",
    "\n",
    "INPUT_PATH = Path(\"input\")"
   ]
  },
  {
   "cell_type": "code",
   "execution_count": 2,
   "metadata": {
    "ExecuteTime": {
     "end_time": "2020-12-11T15:39:23.804680Z",
     "start_time": "2020-12-11T15:39:23.793673Z"
    }
   },
   "outputs": [],
   "source": [
    "with open(INPUT_PATH / \"day11_input.txt\", \"r\") as f:\n",
    "    array = [[c for c in l.rstrip()] for l in f.readlines()]"
   ]
  },
  {
   "cell_type": "code",
   "execution_count": 3,
   "metadata": {
    "ExecuteTime": {
     "end_time": "2020-12-11T15:39:23.820629Z",
     "start_time": "2020-12-11T15:39:23.806624Z"
    }
   },
   "outputs": [],
   "source": [
    "def transform_seat_pt1(array, row, col):\n",
    "    adjacent_rows = [max(0, row - 1), min(row + 1, len(array) - 1)]\n",
    "    adjacent_cols = [max(0, col - 1), min(col + 1, len(array[0]) - 1)]\n",
    "\n",
    "    seat_status, adj_seat_status = array[row][col], []\n",
    "    for r in range(adjacent_rows[0], adjacent_rows[1] + 1):\n",
    "        for c in range(adjacent_cols[0], adjacent_cols[1] + 1):\n",
    "            if array[r][c] != \".\" and (r, c) != (row, col):\n",
    "                adj_seat_status.append(array[r][c])\n",
    "\n",
    "    if seat_status == \"L\" and \"#\" not in adj_seat_status:\n",
    "        return \"#\"\n",
    "    elif seat_status == \"#\" and adj_seat_status.count(\"#\") >= 4:\n",
    "        return \"L\"\n",
    "    elif seat_status == \".\":\n",
    "        return \".\"\n",
    "    else:\n",
    "        return seat_status\n",
    "\n",
    "\n",
    "def update_seat_plan(array, transform_func):\n",
    "    new_array = []\n",
    "    for i, row in enumerate(array):\n",
    "        new_row = []\n",
    "        for j, col in enumerate(row):\n",
    "            new_row.append(transform_func(array, i, j))\n",
    "        new_array.append(new_row)\n",
    "    return new_array\n",
    "\n",
    "\n",
    "def musical_chairs(array, transform_func, verbose=False, use_ndarray=False):\n",
    "    new_array, count = array, 0\n",
    "\n",
    "    if use_ndarray:\n",
    "        array = np.array(array)\n",
    "\n",
    "    while True:\n",
    "        new_array = update_seat_plan(array, transform_func)\n",
    "        if use_ndarray:\n",
    "            new_array = np.array(new_array)\n",
    "        if not np.array_equal(new_array, array):\n",
    "            array = new_array\n",
    "            count += 1\n",
    "            if verbose:\n",
    "                print(count)\n",
    "        else:\n",
    "            break\n",
    "\n",
    "    if use_ndarray:\n",
    "        new_array = new_array.tolist()\n",
    "\n",
    "    print(\n",
    "        f\"Stopped after {count} updates. {sum([x.count('#') for x in new_array])} occupied seats\"\n",
    "    )\n",
    "    return new_array"
   ]
  },
  {
   "cell_type": "code",
   "execution_count": 4,
   "metadata": {
    "ExecuteTime": {
     "end_time": "2020-12-11T15:39:27.155535Z",
     "start_time": "2020-12-11T15:39:23.821652Z"
    }
   },
   "outputs": [
    {
     "name": "stdout",
     "output_type": "stream",
     "text": [
      "Stopped after 102 updates. 2249 occupied seats\n"
     ]
    }
   ],
   "source": [
    "out = musical_chairs(array, transform_seat_pt1)"
   ]
  },
  {
   "cell_type": "markdown",
   "metadata": {},
   "source": [
    "# Part 2"
   ]
  },
  {
   "cell_type": "code",
   "execution_count": 5,
   "metadata": {
    "ExecuteTime": {
     "end_time": "2020-12-11T15:39:27.170535Z",
     "start_time": "2020-12-11T15:39:27.156536Z"
    }
   },
   "outputs": [],
   "source": [
    "def check_diagonal(array, row, col, rotate=False):\n",
    "    if rotate:\n",
    "        row = len(array) - 1 - row\n",
    "        diag = np.diagonal(np.rot90(array), offset=col - row)[::-1]\n",
    "    else:\n",
    "        diag = np.diagonal(array, offset=col - row)\n",
    "    return check_both_sides(diag, min(row, col))\n",
    "\n",
    "\n",
    "def check_both_sides(vector, seat_idx):\n",
    "    left = \"\".join(vector[:seat_idx]).replace(\".\", \"\")\n",
    "    right = \"\".join(vector[seat_idx + 1:]).replace(\".\", \"\")\n",
    "    left_occupied = 1 if left.endswith(\"#\") else 0\n",
    "    right_occupied = 1 if right.startswith(\"#\") else 0\n",
    "    return left_occupied + right_occupied\n",
    "\n",
    "\n",
    "def count_visible(array, row, col):\n",
    "    visible = 0\n",
    "    visible += check_both_sides(array[row], col)  # Check horizontally\n",
    "    visible += check_both_sides(array[:, col], row)  # Check vertically\n",
    "    visible += check_diagonal(array, row, col,\n",
    "                              rotate=False)  # Check diagonally\n",
    "    visible += check_diagonal(array, row, col,\n",
    "                              rotate=True)  # Check diagonally (rotated)\n",
    "    return visible\n",
    "\n",
    "\n",
    "def transform_seat_pt2(array, row, col):\n",
    "    seat_status = array[row, col]\n",
    "    if seat_status == \"L\" and count_visible(array, row, col) == 0:\n",
    "        return \"#\"\n",
    "    elif seat_status == \"#\" and count_visible(array, row, col) >= 5:\n",
    "        return \"L\"\n",
    "    elif seat_status == \".\":\n",
    "        return \".\"\n",
    "    else:\n",
    "        return seat_status"
   ]
  },
  {
   "cell_type": "code",
   "execution_count": 6,
   "metadata": {
    "ExecuteTime": {
     "end_time": "2020-12-11T15:39:27.186535Z",
     "start_time": "2020-12-11T15:39:27.171543Z"
    }
   },
   "outputs": [],
   "source": [
    "with open(INPUT_PATH / \"day11_input.txt\", \"r\") as f:\n",
    "    array = [[c for c in l.rstrip()] for l in f.readlines()]"
   ]
  },
  {
   "cell_type": "code",
   "execution_count": 7,
   "metadata": {
    "ExecuteTime": {
     "end_time": "2020-12-11T15:40:16.232343Z",
     "start_time": "2020-12-11T15:39:27.188534Z"
    }
   },
   "outputs": [
    {
     "name": "stdout",
     "output_type": "stream",
     "text": [
      "1\n",
      "2\n",
      "3\n",
      "4\n",
      "5\n",
      "6\n",
      "7\n",
      "8\n",
      "9\n",
      "10\n",
      "11\n",
      "12\n",
      "13\n",
      "14\n",
      "15\n",
      "16\n",
      "17\n",
      "18\n",
      "19\n",
      "20\n",
      "21\n",
      "22\n",
      "23\n",
      "24\n",
      "25\n",
      "26\n",
      "27\n",
      "28\n",
      "29\n",
      "30\n",
      "31\n",
      "32\n",
      "33\n",
      "34\n",
      "35\n",
      "36\n",
      "37\n",
      "38\n",
      "39\n",
      "40\n",
      "41\n",
      "42\n",
      "43\n",
      "44\n",
      "45\n",
      "46\n",
      "47\n",
      "48\n",
      "49\n",
      "50\n",
      "51\n",
      "52\n",
      "53\n",
      "54\n",
      "55\n",
      "56\n",
      "57\n",
      "58\n",
      "59\n",
      "60\n",
      "61\n",
      "62\n",
      "63\n",
      "64\n",
      "65\n",
      "66\n",
      "67\n",
      "68\n",
      "69\n",
      "70\n",
      "71\n",
      "72\n",
      "Stopped after 72 updates. 2422 occupied seats\n"
     ]
    }
   ],
   "source": [
    "out = musical_chairs(array, transform_seat_pt2, True, True)"
   ]
  },
  {
   "cell_type": "markdown",
   "metadata": {},
   "source": [
    "Seems to be a Heisenbug somewhere since the code produces the expected result for the example array...\n",
    "\n",
    "Answer should be 2023 after 85 updates  :("
   ]
  },
  {
   "cell_type": "markdown",
   "metadata": {},
   "source": [
    "# Retry\n",
    "This is a nice solution: https://github.com/davepage-mcr/aoc2020/blob/main/day11/seats.py"
   ]
  },
  {
   "cell_type": "code",
   "execution_count": 8,
   "metadata": {
    "ExecuteTime": {
     "end_time": "2020-12-11T15:40:16.248262Z",
     "start_time": "2020-12-11T15:40:16.233254Z"
    }
   },
   "outputs": [],
   "source": [
    "def count_visible_v2(array, row, col):\n",
    "    neighbours = 0\n",
    "\n",
    "    # Look for first seat in 8 cardinal directions from (col, row)\n",
    "    for dc, dr in [(-1, -1), (0, -1), (1, -1), (-1, 0), (1, 0), (-1, +1),\n",
    "                   (0, 1), (1, 1)]:\n",
    "\n",
    "        occupied = False\n",
    "\n",
    "        r = row + dr\n",
    "        c = col + dc\n",
    "\n",
    "        while r >= 0 and r < len(array) and c >= 0 and c < len(array[0]):\n",
    "            if array[r][c] == '#':\n",
    "                occupied = True\n",
    "                break\n",
    "            elif array[r][c] == 'L':\n",
    "                break\n",
    "\n",
    "            r += dr\n",
    "            c += dc\n",
    "\n",
    "        if occupied:\n",
    "            neighbours += 1\n",
    "\n",
    "    return (neighbours)\n",
    "\n",
    "\n",
    "def transform_seat_pt2_v2(array, row, col):\n",
    "    seat_status = array[row][col]\n",
    "    if seat_status == \"L\" and count_visible_v2(array, row, col) == 0:\n",
    "        return \"#\"\n",
    "    elif seat_status == \"#\" and count_visible_v2(array, row, col) >= 5:\n",
    "        return \"L\"\n",
    "    elif seat_status == \".\":\n",
    "        return \".\"\n",
    "    else:\n",
    "        return seat_status"
   ]
  },
  {
   "cell_type": "code",
   "execution_count": 9,
   "metadata": {
    "ExecuteTime": {
     "end_time": "2020-12-11T15:40:18.663137Z",
     "start_time": "2020-12-11T15:40:16.249253Z"
    }
   },
   "outputs": [
    {
     "name": "stdout",
     "output_type": "stream",
     "text": [
      "Stopped after 85 updates. 2023 occupied seats\n"
     ]
    }
   ],
   "source": [
    "out = musical_chairs(array, transform_seat_pt2_v2)"
   ]
  },
  {
   "cell_type": "code",
   "execution_count": null,
   "metadata": {},
   "outputs": [],
   "source": []
  }
 ],
 "metadata": {
  "kernelspec": {
   "display_name": "rico",
   "language": "python",
   "name": "rico"
  },
  "language_info": {
   "codemirror_mode": {
    "name": "ipython",
    "version": 3
   },
   "file_extension": ".py",
   "mimetype": "text/x-python",
   "name": "python",
   "nbconvert_exporter": "python",
   "pygments_lexer": "ipython3",
   "version": "3.8.3"
  }
 },
 "nbformat": 4,
 "nbformat_minor": 4
}
