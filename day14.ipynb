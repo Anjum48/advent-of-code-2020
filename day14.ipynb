{
 "cells": [
  {
   "cell_type": "code",
   "execution_count": 1,
   "metadata": {
    "ExecuteTime": {
     "end_time": "2020-12-14T11:43:10.124214Z",
     "start_time": "2020-12-14T11:43:10.110211Z"
    }
   },
   "outputs": [],
   "source": [
    "import re\n",
    "import itertools"
   ]
  },
  {
   "cell_type": "code",
   "execution_count": 2,
   "metadata": {
    "ExecuteTime": {
     "end_time": "2020-12-14T11:43:10.139817Z",
     "start_time": "2020-12-14T11:43:10.126213Z"
    }
   },
   "outputs": [],
   "source": [
    "with open(\"input/day14_input.txt\", \"r\") as f:\n",
    "    program = [l.rstrip() for l in f.readlines()]"
   ]
  },
  {
   "cell_type": "code",
   "execution_count": 3,
   "metadata": {
    "ExecuteTime": {
     "end_time": "2020-12-14T11:43:10.155820Z",
     "start_time": "2020-12-14T11:43:10.141810Z"
    }
   },
   "outputs": [],
   "source": [
    "def apply_mask_pt1(decimal, mask):\n",
    "    transformed_number = [bit if m == \"X\" else m for m, bit in zip(mask, f\"{decimal:036b}\")]\n",
    "    transformed_number = \"\".join(transformed_number)\n",
    "    return int(transformed_number, 2)\n",
    "\n",
    "def part1(program):\n",
    "    memory = {}\n",
    "    mask = None\n",
    "\n",
    "    for line in program:\n",
    "        if line.startswith(\"mask\"):\n",
    "            mask = line[7:]\n",
    "        else:\n",
    "            mem_location, value = re.findall(r\"(\\d+)\", line)\n",
    "            memory[mem_location] = apply_mask_pt1(int(value), mask)\n",
    "\n",
    "    return sum(memory.values())"
   ]
  },
  {
   "cell_type": "code",
   "execution_count": 4,
   "metadata": {
    "ExecuteTime": {
     "end_time": "2020-12-14T11:43:10.171819Z",
     "start_time": "2020-12-14T11:43:10.156809Z"
    }
   },
   "outputs": [
    {
     "data": {
      "text/plain": [
       "9967721333886"
      ]
     },
     "execution_count": 4,
     "metadata": {},
     "output_type": "execute_result"
    }
   ],
   "source": [
    "part1(program)"
   ]
  },
  {
   "cell_type": "markdown",
   "metadata": {},
   "source": [
    "# Part 2"
   ]
  },
  {
   "cell_type": "code",
   "execution_count": 5,
   "metadata": {
    "ExecuteTime": {
     "end_time": "2020-12-14T11:43:10.186809Z",
     "start_time": "2020-12-14T11:43:10.172810Z"
    }
   },
   "outputs": [],
   "source": [
    "def apply_mask_pt2(decimal, mask):\n",
    "    transformed_number = []\n",
    "    for m, bit in zip(mask, f\"{decimal:036b}\"):\n",
    "        if m == \"X\":\n",
    "            transformed_number.append(\"X\")\n",
    "        elif m == \"0\":\n",
    "            transformed_number.append(bit)\n",
    "        else:\n",
    "            transformed_number.append(\"1\")\n",
    "    return \"\".join(transformed_number)\n",
    "\n",
    "\n",
    "def replace_floating_bits(number, replacements):\n",
    "    assert number.count(\"X\") == len(list(replacements))\n",
    "    for r in replacements:\n",
    "        number = number.replace(\"X\", str(r), 1)\n",
    "    return int(number, 2)\n",
    "\n",
    "\n",
    "def part2(program):\n",
    "    memory = {}\n",
    "    mask = None\n",
    "\n",
    "    for line in program:\n",
    "        if line.startswith(\"mask\"):\n",
    "            mask = line[7:]\n",
    "        else:\n",
    "            mem_location, value = re.findall(r\"(\\d+)\", line)\n",
    "            floating_number = apply_mask_pt2(int(mem_location), mask)\n",
    "            floating_bits = list(itertools.product([0, 1], repeat=floating_number.count(\"X\")))\n",
    "            \n",
    "            for f in floating_bits:\n",
    "                new_address = replace_floating_bits(floating_number, f)\n",
    "                memory[new_address] = int(value)\n",
    "\n",
    "    return sum(memory.values())"
   ]
  },
  {
   "cell_type": "code",
   "execution_count": 6,
   "metadata": {
    "ExecuteTime": {
     "end_time": "2020-12-14T11:43:10.407877Z",
     "start_time": "2020-12-14T11:43:10.187810Z"
    }
   },
   "outputs": [
    {
     "data": {
      "text/plain": [
       "4355897790573"
      ]
     },
     "execution_count": 6,
     "metadata": {},
     "output_type": "execute_result"
    }
   ],
   "source": [
    "part2(program)"
   ]
  }
 ],
 "metadata": {
  "kernelspec": {
   "display_name": "rico",
   "language": "python",
   "name": "rico"
  },
  "language_info": {
   "codemirror_mode": {
    "name": "ipython",
    "version": 3
   },
   "file_extension": ".py",
   "mimetype": "text/x-python",
   "name": "python",
   "nbconvert_exporter": "python",
   "pygments_lexer": "ipython3",
   "version": "3.8.3"
  }
 },
 "nbformat": 4,
 "nbformat_minor": 4
}
