{
 "cells": [
  {
   "cell_type": "code",
   "execution_count": 57,
   "metadata": {
    "ExecuteTime": {
     "end_time": "2020-12-15T09:34:16.393693Z",
     "start_time": "2020-12-15T09:34:16.382734Z"
    }
   },
   "outputs": [],
   "source": [
    "numbers = [1, 2, 16, 19, 18, 0]"
   ]
  },
  {
   "cell_type": "code",
   "execution_count": 58,
   "metadata": {
    "ExecuteTime": {
     "end_time": "2020-12-15T09:34:16.596343Z",
     "start_time": "2020-12-15T09:34:16.588344Z"
    }
   },
   "outputs": [],
   "source": [
    "def determine_number(steps):\n",
    "    history = {}\n",
    "\n",
    "    for turn in range(steps):\n",
    "        if turn < len(numbers):\n",
    "            spoken = numbers[turn]\n",
    "        elif len(history[spoken]) > 1:\n",
    "            spoken = history[spoken][-1] - history[spoken][-2]\n",
    "        else:\n",
    "            spoken = 0\n",
    "\n",
    "        if spoken not in history.keys():\n",
    "            history[spoken] = [turn + 1]\n",
    "        else:\n",
    "            history[spoken].append(turn + 1)\n",
    "\n",
    "    return spoken"
   ]
  },
  {
   "cell_type": "code",
   "execution_count": 59,
   "metadata": {
    "ExecuteTime": {
     "end_time": "2020-12-15T09:34:16.781824Z",
     "start_time": "2020-12-15T09:34:16.772825Z"
    }
   },
   "outputs": [
    {
     "data": {
      "text/plain": [
       "536"
      ]
     },
     "execution_count": 59,
     "metadata": {},
     "output_type": "execute_result"
    }
   ],
   "source": [
    "determine_number(2020)"
   ]
  },
  {
   "cell_type": "code",
   "execution_count": 60,
   "metadata": {
    "ExecuteTime": {
     "end_time": "2020-12-15T09:34:43.500360Z",
     "start_time": "2020-12-15T09:34:16.949659Z"
    }
   },
   "outputs": [
    {
     "data": {
      "text/plain": [
       "24065124"
      ]
     },
     "execution_count": 60,
     "metadata": {},
     "output_type": "execute_result"
    }
   ],
   "source": [
    "determine_number(30000000)"
   ]
  },
  {
   "cell_type": "code",
   "execution_count": null,
   "metadata": {},
   "outputs": [],
   "source": []
  }
 ],
 "metadata": {
  "kernelspec": {
   "display_name": "rico",
   "language": "python",
   "name": "rico"
  },
  "language_info": {
   "codemirror_mode": {
    "name": "ipython",
    "version": 3
   },
   "file_extension": ".py",
   "mimetype": "text/x-python",
   "name": "python",
   "nbconvert_exporter": "python",
   "pygments_lexer": "ipython3",
   "version": "3.8.3"
  }
 },
 "nbformat": 4,
 "nbformat_minor": 4
}
