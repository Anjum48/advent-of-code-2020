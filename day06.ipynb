{
 "cells": [
  {
   "cell_type": "code",
   "execution_count": 1,
   "metadata": {
    "ExecuteTime": {
     "end_time": "2020-12-06T11:38:52.435363Z",
     "start_time": "2020-12-06T11:38:52.266107Z"
    }
   },
   "outputs": [],
   "source": [
    "import pandas as pd\n",
    "import numpy as np\n",
    "import re\n",
    "from pathlib import Path\n",
    "\n",
    "INPUT_PATH = Path(\"input\")"
   ]
  },
  {
   "cell_type": "code",
   "execution_count": 2,
   "metadata": {
    "ExecuteTime": {
     "end_time": "2020-12-06T11:38:52.442138Z",
     "start_time": "2020-12-06T11:38:52.436976Z"
    }
   },
   "outputs": [],
   "source": [
    "f = open(INPUT_PATH / \"day06_input.txt\", \"r\")\n",
    "\n",
    "all_group_sets = []\n",
    "group = set()\n",
    "\n",
    "for i, line in enumerate(f):\n",
    "    if len(line) > 1:\n",
    "        group.update(line.rstrip())\n",
    "    else:\n",
    "        all_group_sets.append(group)\n",
    "        group = set()\n",
    "else:\n",
    "    all_group_sets.append(group)\n",
    "    \n",
    "\n",
    "# all_group_sets"
   ]
  },
  {
   "cell_type": "code",
   "execution_count": 3,
   "metadata": {
    "ExecuteTime": {
     "end_time": "2020-12-06T11:38:52.453874Z",
     "start_time": "2020-12-06T11:38:52.443609Z"
    }
   },
   "outputs": [
    {
     "data": {
      "text/plain": [
       "6585"
      ]
     },
     "execution_count": 3,
     "metadata": {},
     "output_type": "execute_result"
    }
   ],
   "source": [
    "count = 0\n",
    "\n",
    "for g in all_group_sets:\n",
    "    count += len(list(g))\n",
    "    \n",
    "count"
   ]
  },
  {
   "cell_type": "markdown",
   "metadata": {},
   "source": [
    "# Part 2\n",
    "This one is tricky!"
   ]
  },
  {
   "cell_type": "code",
   "execution_count": 4,
   "metadata": {
    "ExecuteTime": {
     "end_time": "2020-12-06T11:38:52.457795Z",
     "start_time": "2020-12-06T11:38:52.455005Z"
    }
   },
   "outputs": [],
   "source": [
    "from collections import Counter"
   ]
  },
  {
   "cell_type": "code",
   "execution_count": 5,
   "metadata": {
    "ExecuteTime": {
     "end_time": "2020-12-06T11:38:52.464322Z",
     "start_time": "2020-12-06T11:38:52.458901Z"
    }
   },
   "outputs": [],
   "source": [
    "f = open(INPUT_PATH / \"day06_input.txt\", \"r\")\n",
    "\n",
    "all_group_answers = []\n",
    "group = []\n",
    "\n",
    "for i, line in enumerate(f):\n",
    "    if len(line) > 1:\n",
    "        group.append(line.rstrip())\n",
    "    else:\n",
    "        all_group_answers.append(group)\n",
    "        group = []\n",
    "else:\n",
    "    all_group_answers.append(group)\n",
    "    \n",
    "\n",
    "# all_group_answers"
   ]
  },
  {
   "cell_type": "code",
   "execution_count": 6,
   "metadata": {
    "ExecuteTime": {
     "end_time": "2020-12-06T11:38:52.468456Z",
     "start_time": "2020-12-06T11:38:52.465747Z"
    }
   },
   "outputs": [],
   "source": [
    "# all_group_sets"
   ]
  },
  {
   "cell_type": "code",
   "execution_count": 7,
   "metadata": {
    "ExecuteTime": {
     "end_time": "2020-12-06T11:38:52.486908Z",
     "start_time": "2020-12-06T11:38:52.469883Z"
    }
   },
   "outputs": [
    {
     "data": {
      "text/plain": [
       "3276"
      ]
     },
     "execution_count": 7,
     "metadata": {},
     "output_type": "execute_result"
    }
   ],
   "source": [
    "yes_count = 0\n",
    "\n",
    "for s, group in zip(all_group_sets, all_group_answers):\n",
    "    \n",
    "    # Look through all of the available answers in a group\n",
    "    for answer in s:\n",
    "        answer_count = 0\n",
    "        \n",
    "        # Then check if an individual in each group selected that answer\n",
    "        for i in group:\n",
    "            if answer in set(i):\n",
    "                answer_count += 1\n",
    "            \n",
    "        # If all the the individuals in a group answered the question, +1 to yes count\n",
    "        if answer_count == len(group):\n",
    "            yes_count += 1\n",
    "\n",
    "yes_count"
   ]
  },
  {
   "cell_type": "markdown",
   "metadata": {},
   "source": [
    "# Much nicer solution...\n",
    "\n",
    "Sauce: https://twitter.com/YassineAlouini/status/1335457733844328448/photo/1"
   ]
  },
  {
   "cell_type": "code",
   "execution_count": 9,
   "metadata": {
    "ExecuteTime": {
     "end_time": "2020-12-06T11:38:57.672567Z",
     "start_time": "2020-12-06T11:38:57.661065Z"
    }
   },
   "outputs": [
    {
     "data": {
      "text/plain": [
       "3276"
      ]
     },
     "execution_count": 9,
     "metadata": {},
     "output_type": "execute_result"
    }
   ],
   "source": [
    "import itertools\n",
    "\n",
    "total = 0\n",
    "\n",
    "with open(INPUT_PATH / \"day06_input.txt\", \"r\") as f:\n",
    "    data = f.read().rstrip().split(\"\\n\\n\")\n",
    "    \n",
    "    for row in data:\n",
    "        questions = [c.split(\" \") for c in row.split(\"\\n\")]\n",
    "        questions = itertools.chain(*questions)\n",
    "        questions = [set(person) for person in questions]\n",
    "        total += (len(set.intersection(*questions)))\n",
    "        \n",
    "total"
   ]
  },
  {
   "cell_type": "code",
   "execution_count": null,
   "metadata": {},
   "outputs": [],
   "source": []
  }
 ],
 "metadata": {
  "kernelspec": {
   "display_name": "Python 3.8.1 64-bit ('kaggle': conda)",
   "language": "python",
   "name": "python38164bitkaggleconda0013a04193b845a7a07c668fa6fedcae"
  },
  "language_info": {
   "codemirror_mode": {
    "name": "ipython",
    "version": 3
   },
   "file_extension": ".py",
   "mimetype": "text/x-python",
   "name": "python",
   "nbconvert_exporter": "python",
   "pygments_lexer": "ipython3",
   "version": "3.8.5"
  }
 },
 "nbformat": 4,
 "nbformat_minor": 4
}
