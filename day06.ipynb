{
 "cells": [
  {
   "cell_type": "code",
   "execution_count": 1,
   "metadata": {
    "ExecuteTime": {
     "end_time": "2020-12-06T10:44:19.049386Z",
     "start_time": "2020-12-06T10:44:18.873702Z"
    }
   },
   "outputs": [],
   "source": [
    "import pandas as pd\n",
    "import numpy as np\n",
    "import re\n",
    "from pathlib import Path\n",
    "\n",
    "INPUT_PATH = Path(\"input\")"
   ]
  },
  {
   "cell_type": "code",
   "execution_count": 2,
   "metadata": {
    "ExecuteTime": {
     "end_time": "2020-12-06T10:44:19.056327Z",
     "start_time": "2020-12-06T10:44:19.050879Z"
    }
   },
   "outputs": [],
   "source": [
    "f = open(INPUT_PATH / \"day06_input.txt\", \"r\")\n",
    "\n",
    "all_group_sets = []\n",
    "group = set()\n",
    "\n",
    "for i, line in enumerate(f):\n",
    "    if len(line) > 1:\n",
    "        group.update(line.rstrip())\n",
    "    else:\n",
    "        all_group_sets.append(group)\n",
    "        group = set()\n",
    "else:\n",
    "    all_group_sets.append(group)\n",
    "    \n",
    "\n",
    "# all_group_sets"
   ]
  },
  {
   "cell_type": "code",
   "execution_count": 3,
   "metadata": {
    "ExecuteTime": {
     "end_time": "2020-12-06T10:44:19.067544Z",
     "start_time": "2020-12-06T10:44:19.057738Z"
    }
   },
   "outputs": [
    {
     "data": {
      "text/plain": [
       "6585"
      ]
     },
     "execution_count": 3,
     "metadata": {},
     "output_type": "execute_result"
    }
   ],
   "source": [
    "count = 0\n",
    "\n",
    "for g in all_group_sets:\n",
    "    count += len(list(g))\n",
    "    \n",
    "count"
   ]
  },
  {
   "cell_type": "markdown",
   "metadata": {},
   "source": [
    "# Part 2\n",
    "This one is tricky!"
   ]
  },
  {
   "cell_type": "code",
   "execution_count": 4,
   "metadata": {
    "ExecuteTime": {
     "end_time": "2020-12-06T10:44:19.071409Z",
     "start_time": "2020-12-06T10:44:19.068611Z"
    }
   },
   "outputs": [],
   "source": [
    "from collections import Counter"
   ]
  },
  {
   "cell_type": "code",
   "execution_count": 5,
   "metadata": {
    "ExecuteTime": {
     "end_time": "2020-12-06T10:44:19.080057Z",
     "start_time": "2020-12-06T10:44:19.072577Z"
    }
   },
   "outputs": [],
   "source": [
    "f = open(INPUT_PATH / \"day06_input.txt\", \"r\")\n",
    "\n",
    "all_group_answers = []\n",
    "group = []\n",
    "\n",
    "for i, line in enumerate(f):\n",
    "    if len(line) > 1:\n",
    "        group.append(line.rstrip())\n",
    "    else:\n",
    "        all_group_answers.append(group)\n",
    "        group = []\n",
    "else:\n",
    "    all_group_answers.append(group)\n",
    "    \n",
    "\n",
    "# all_group_answers"
   ]
  },
  {
   "cell_type": "code",
   "execution_count": 6,
   "metadata": {
    "ExecuteTime": {
     "end_time": "2020-12-06T10:44:19.086900Z",
     "start_time": "2020-12-06T10:44:19.081467Z"
    }
   },
   "outputs": [],
   "source": [
    "# all_group_sets"
   ]
  },
  {
   "cell_type": "code",
   "execution_count": 7,
   "metadata": {
    "ExecuteTime": {
     "end_time": "2020-12-06T10:44:19.107868Z",
     "start_time": "2020-12-06T10:44:19.088947Z"
    }
   },
   "outputs": [
    {
     "data": {
      "text/plain": [
       "3276"
      ]
     },
     "execution_count": 7,
     "metadata": {},
     "output_type": "execute_result"
    }
   ],
   "source": [
    "yes_count = 0\n",
    "\n",
    "for s, group in zip(all_group_sets, all_group_answers):\n",
    "    \n",
    "    # Look through all of the available answers in a group\n",
    "    for answer in s:\n",
    "        answer_count = 0\n",
    "        \n",
    "        # Then check if an individual in each group selected that answer\n",
    "        for i in group:\n",
    "            if answer in set(i):\n",
    "                answer_count += 1\n",
    "            \n",
    "        # If all the the individuals in a group answered the question, +1 to yes count\n",
    "        if answer_count == len(group):\n",
    "            yes_count += 1\n",
    "\n",
    "yes_count"
   ]
  },
  {
   "cell_type": "code",
   "execution_count": null,
   "metadata": {},
   "outputs": [],
   "source": []
  }
 ],
 "metadata": {
  "kernelspec": {
   "display_name": "Python 3.8.1 64-bit ('kaggle': conda)",
   "language": "python",
   "name": "python38164bitkaggleconda0013a04193b845a7a07c668fa6fedcae"
  },
  "language_info": {
   "codemirror_mode": {
    "name": "ipython",
    "version": 3
   },
   "file_extension": ".py",
   "mimetype": "text/x-python",
   "name": "python",
   "nbconvert_exporter": "python",
   "pygments_lexer": "ipython3",
   "version": "3.8.5"
  }
 },
 "nbformat": 4,
 "nbformat_minor": 4
}
