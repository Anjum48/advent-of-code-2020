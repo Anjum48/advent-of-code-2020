{
 "cells": [
  {
   "cell_type": "code",
   "execution_count": 1,
   "metadata": {
    "ExecuteTime": {
     "end_time": "2020-12-17T11:48:19.817469Z",
     "start_time": "2020-12-17T11:48:19.752960Z"
    }
   },
   "outputs": [
    {
     "data": {
      "text/plain": [
       "array([[1, 0, 0, 0, 0, 0, 0, 1],\n",
       "       [1, 1, 0, 1, 0, 0, 1, 0],\n",
       "       [1, 0, 1, 0, 1, 1, 1, 0],\n",
       "       [0, 1, 1, 0, 0, 0, 0, 0],\n",
       "       [0, 1, 1, 0, 1, 0, 0, 0],\n",
       "       [1, 1, 0, 1, 0, 0, 0, 0],\n",
       "       [1, 1, 1, 1, 1, 0, 1, 0],\n",
       "       [1, 1, 0, 1, 0, 1, 1, 1]])"
      ]
     },
     "execution_count": 1,
     "metadata": {},
     "output_type": "execute_result"
    }
   ],
   "source": [
    "import numpy as np\n",
    "\n",
    "with open(\"input/day17_input.txt\", \"r\") as f:\n",
    "    data = [l.rstrip().replace(\".\", \"0\").replace(\"#\", \"1\") for l in f.readlines()]\n",
    "    \n",
    "data = np.array([[int(x) for x in row] for row in data])\n",
    "data"
   ]
  },
  {
   "cell_type": "code",
   "execution_count": 2,
   "metadata": {
    "ExecuteTime": {
     "end_time": "2020-12-17T11:48:19.826695Z",
     "start_time": "2020-12-17T11:48:19.819144Z"
    }
   },
   "outputs": [],
   "source": [
    "def change_cube_state(coords, grid):\n",
    "    x, y, z = coords\n",
    "    sample = grid[x-1:x+2, y-1:y+2, z-1:z+2].copy()\n",
    "            \n",
    "    if grid[x, y, z] == 1:\n",
    "        sample[1, 1, 1] = 0\n",
    "        return 1 if 2 <= np.sum(sample) <= 3 else 0\n",
    "    else:\n",
    "        return 1 if np.sum(sample) == 3 else 0\n",
    "        \n",
    "        \n",
    "def change_hypercube_state(coords, grid):\n",
    "    x, y, z, w = coords\n",
    "    sample = grid[x-1:x+2, y-1:y+2, z-1:z+2, w-1:w+2].copy()\n",
    "            \n",
    "    if grid[x, y, z, w] == 1:\n",
    "        sample[1, 1, 1, 1] = 0\n",
    "        return 1 if 2 <= np.sum(sample) <= 3 else 0\n",
    "    else:\n",
    "        return 1 if np.sum(sample) == 3 else 0  \n",
    "\n",
    "        \n",
    "def one_cycle(space, update_fn):\n",
    "    new_space = np.zeros_like(space)\n",
    "    for index, x in np.ndenumerate(space):\n",
    "        new_space[index] = update_fn(index, space)\n",
    "    return new_space"
   ]
  },
  {
   "cell_type": "code",
   "execution_count": 3,
   "metadata": {
    "ExecuteTime": {
     "end_time": "2020-12-17T11:48:20.273349Z",
     "start_time": "2020-12-17T11:48:19.827825Z"
    }
   },
   "outputs": [
    {
     "name": "stdout",
     "output_type": "stream",
     "text": [
      "271\n"
     ]
    }
   ],
   "source": [
    "space = np.pad(np.expand_dims(data, -1), ((7, 7), (7, 7), (11, 11)))\n",
    "\n",
    "for _ in range(6):\n",
    "    space = one_cycle(space, change_cube_state)\n",
    "    \n",
    "print(np.sum(space))"
   ]
  },
  {
   "cell_type": "markdown",
   "metadata": {},
   "source": [
    "# Part 2"
   ]
  },
  {
   "cell_type": "code",
   "execution_count": 4,
   "metadata": {
    "ExecuteTime": {
     "end_time": "2020-12-17T11:48:31.657724Z",
     "start_time": "2020-12-17T11:48:20.274584Z"
    }
   },
   "outputs": [
    {
     "name": "stdout",
     "output_type": "stream",
     "text": [
      "2064\n"
     ]
    }
   ],
   "source": [
    "space = np.pad(np.expand_dims(data, (2, 3)), ((7, 7), (7, 7), (11, 11), (11, 11)))\n",
    "\n",
    "for _ in range(6):\n",
    "    space = one_cycle(space, change_hypercube_state)\n",
    "    \n",
    "print(np.sum(space))"
   ]
  },
  {
   "cell_type": "code",
   "execution_count": null,
   "metadata": {},
   "outputs": [],
   "source": []
  }
 ],
 "metadata": {
  "kernelspec": {
   "display_name": "Python 3.8.1 64-bit ('kaggle': conda)",
   "language": "python",
   "name": "python38164bitkaggleconda0013a04193b845a7a07c668fa6fedcae"
  },
  "language_info": {
   "codemirror_mode": {
    "name": "ipython",
    "version": 3
   },
   "file_extension": ".py",
   "mimetype": "text/x-python",
   "name": "python",
   "nbconvert_exporter": "python",
   "pygments_lexer": "ipython3",
   "version": "3.8.5"
  }
 },
 "nbformat": 4,
 "nbformat_minor": 4
}
