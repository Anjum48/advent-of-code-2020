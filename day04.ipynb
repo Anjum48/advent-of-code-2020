{
 "cells": [
  {
   "cell_type": "code",
   "execution_count": 1,
   "metadata": {
    "ExecuteTime": {
     "end_time": "2020-12-04T10:17:57.355114Z",
     "start_time": "2020-12-04T10:17:57.188422Z"
    }
   },
   "outputs": [],
   "source": [
    "import pandas as pd\n",
    "import numpy as np\n",
    "import re\n",
    "from pathlib import Path\n",
    "\n",
    "INPUT_PATH = Path(\"input\")"
   ]
  },
  {
   "cell_type": "code",
   "execution_count": 2,
   "metadata": {
    "ExecuteTime": {
     "end_time": "2020-12-04T10:17:57.362323Z",
     "start_time": "2020-12-04T10:17:57.356692Z"
    }
   },
   "outputs": [],
   "source": [
    "all_passports = []\n",
    "\n",
    "f = open(INPUT_PATH / \"day04_input.txt\", \"r\")\n",
    "passport = {}\n",
    "\n",
    "for i, line in enumerate(f):\n",
    "    if len(line) > 1:\n",
    "        fields = line.split(\" \")\n",
    "        for f in fields:\n",
    "            key, value = f.split(\":\")\n",
    "            passport[key] = value.rstrip()\n",
    "    else:\n",
    "        all_passports.append(passport)\n",
    "        passport = {}\n",
    "else:\n",
    "    all_passports.append(passport)"
   ]
  },
  {
   "cell_type": "code",
   "execution_count": 3,
   "metadata": {
    "ExecuteTime": {
     "end_time": "2020-12-04T10:17:57.368021Z",
     "start_time": "2020-12-04T10:17:57.363526Z"
    }
   },
   "outputs": [],
   "source": [
    "required_fields = [\"byr\", \"iyr\", \"eyr\", \"hgt\", \"hcl\", \"ecl\", \"pid\", \"cid\"]\n",
    "required_fields_with_exception = [\"byr\", \"iyr\", \"eyr\", \"hgt\", \"hcl\", \"ecl\", \"pid\"]"
   ]
  },
  {
   "cell_type": "code",
   "execution_count": 41,
   "metadata": {
    "ExecuteTime": {
     "end_time": "2020-12-04T10:34:15.886643Z",
     "start_time": "2020-12-04T10:34:15.880927Z"
    }
   },
   "outputs": [
    {
     "data": {
      "text/plain": [
       "[{'byr': 2024,\n",
       "  'iyr': 2016,\n",
       "  'eyr': 2034,\n",
       "  'ecl': 'zzz',\n",
       "  'pid': '985592671',\n",
       "  'hcl': '033b48',\n",
       "  'hgt': 181,\n",
       "  'cid': 166},\n",
       " {'hgt': '66cm',\n",
       "  'pid': '152cm',\n",
       "  'hcl': 'cfb18a',\n",
       "  'eyr': 1947,\n",
       "  'byr': 2020,\n",
       "  'ecl': 'zzz',\n",
       "  'iyr': 2029},\n",
       " {'ecl': 'gry',\n",
       "  'hcl': '#888785',\n",
       "  'eyr': 2023,\n",
       "  'cid': 63,\n",
       "  'iyr': 2019,\n",
       "  'hgt': '177cm',\n",
       "  'pid': '656793259'},\n",
       " {'pid': '#5e832a',\n",
       "  'ecl': 'dne',\n",
       "  'hcl': '#7d3b0c',\n",
       "  'byr': 2018,\n",
       "  'eyr': 1928,\n",
       "  'hgt': '61cm',\n",
       "  'iyr': 1936,\n",
       "  'cid': 241},\n",
       " {'hcl': '#888785',\n",
       "  'ecl': 'oth',\n",
       "  'eyr': 2025,\n",
       "  'pid': '597580472',\n",
       "  'iyr': 2017,\n",
       "  'hgt': '187cm',\n",
       "  'byr': 1957,\n",
       "  'cid': 247}]"
      ]
     },
     "execution_count": 41,
     "metadata": {},
     "output_type": "execute_result"
    }
   ],
   "source": [
    "all_passports[:5]"
   ]
  },
  {
   "cell_type": "code",
   "execution_count": 5,
   "metadata": {
    "ExecuteTime": {
     "end_time": "2020-12-04T10:17:57.445443Z",
     "start_time": "2020-12-04T10:17:57.437742Z"
    }
   },
   "outputs": [
    {
     "name": "stdout",
     "output_type": "stream",
     "text": [
      "Valid passports: 120\n",
      "Valid passports with no cid: 247\n"
     ]
    }
   ],
   "source": [
    "valid_count = 0\n",
    "valid_count_with_exception = 0\n",
    "\n",
    "for p in all_passports:\n",
    "    if set(p.keys()) == set(required_fields):\n",
    "        valid_count += 1\n",
    "        valid_count_with_exception += 1\n",
    "    elif set(p.keys()) == set(required_fields_with_exception):\n",
    "        valid_count_with_exception += 1\n",
    "        \n",
    "print(\"Valid passports:\", valid_count)\n",
    "print(\"Valid passports with no cid:\", valid_count_with_exception)"
   ]
  },
  {
   "cell_type": "markdown",
   "metadata": {},
   "source": [
    "# Part 2"
   ]
  },
  {
   "cell_type": "code",
   "execution_count": 36,
   "metadata": {
    "ExecuteTime": {
     "end_time": "2020-12-04T10:34:00.248467Z",
     "start_time": "2020-12-04T10:34:00.238411Z"
    }
   },
   "outputs": [],
   "source": [
    "all_passports = []\n",
    "\n",
    "f = open(INPUT_PATH / \"day04_input.txt\", \"r\")\n",
    "passport = {}\n",
    "\n",
    "for i, line in enumerate(f):\n",
    "    if len(line) > 1:\n",
    "        fields = line.split(\" \")\n",
    "        for f in fields:\n",
    "            key, value = f.split(\":\")\n",
    "            value = value.rstrip()\n",
    "            \n",
    "            if value.isnumeric() and key not in [\"pid\"]:  # passport id has leading zeros\n",
    "                value = int(value)\n",
    "                \n",
    "            passport[key] = value\n",
    "    else:\n",
    "        all_passports.append(passport)\n",
    "        passport = {}\n",
    "else:\n",
    "    all_passports.append(passport)"
   ]
  },
  {
   "cell_type": "code",
   "execution_count": 37,
   "metadata": {
    "ExecuteTime": {
     "end_time": "2020-12-04T10:34:00.448677Z",
     "start_time": "2020-12-04T10:34:00.438063Z"
    }
   },
   "outputs": [],
   "source": [
    "def valid_number(x, lower, upper):\n",
    "    try:\n",
    "        x = int(x)\n",
    "        return x >= lower and x <= upper\n",
    "    except:\n",
    "        return False\n",
    "\n",
    "\n",
    "def valid_height(x):\n",
    "    if type(x) == int:\n",
    "        return False\n",
    "    if x.endswith(\"in\"):\n",
    "        return valid_number(int(x[:-2]), 59, 76)\n",
    "    elif x.endswith(\"cm\"):\n",
    "        return valid_number(int(x[:-2]), 150, 193)\n",
    "    else:\n",
    "        return False\n",
    "\n",
    "\n",
    "def check_passport(p):\n",
    "    re_exp = \"^(#)([a-f0-9]{6})$\"\n",
    "\n",
    "    if not valid_number(p[\"byr\"], 1920, 2002):\n",
    "        return False\n",
    "    elif not valid_number(p[\"iyr\"], 2010, 2020):\n",
    "        return False\n",
    "    elif not valid_number(p[\"eyr\"], 2020, 2030):\n",
    "        return False\n",
    "    elif not valid_height(p[\"hgt\"]):\n",
    "        return False\n",
    "    elif re.fullmatch(re_exp, p[\"hcl\"]) is None:\n",
    "        return False\n",
    "    elif p[\"ecl\"] not in [\"amb\", \"blu\", \"brn\", \"gry\", \"grn\", \"hzl\", \"oth\"]:\n",
    "        return False\n",
    "    elif len(p[\"pid\"]) != 9:\n",
    "        return False\n",
    "    else:\n",
    "        return True"
   ]
  },
  {
   "cell_type": "code",
   "execution_count": 38,
   "metadata": {
    "ExecuteTime": {
     "end_time": "2020-12-04T10:34:00.635855Z",
     "start_time": "2020-12-04T10:34:00.631541Z"
    }
   },
   "outputs": [
    {
     "data": {
      "text/plain": [
       "{'byr': 2024,\n",
       " 'iyr': 2016,\n",
       " 'eyr': 2034,\n",
       " 'ecl': 'zzz',\n",
       " 'pid': '985592671',\n",
       " 'hcl': '033b48',\n",
       " 'hgt': 181,\n",
       " 'cid': 166}"
      ]
     },
     "execution_count": 38,
     "metadata": {},
     "output_type": "execute_result"
    }
   ],
   "source": [
    "all_passports[0]"
   ]
  },
  {
   "cell_type": "code",
   "execution_count": 39,
   "metadata": {
    "ExecuteTime": {
     "end_time": "2020-12-04T10:34:01.066605Z",
     "start_time": "2020-12-04T10:34:01.062442Z"
    }
   },
   "outputs": [
    {
     "data": {
      "text/plain": [
       "False"
      ]
     },
     "execution_count": 39,
     "metadata": {},
     "output_type": "execute_result"
    }
   ],
   "source": [
    "check_passport(all_passports[0])"
   ]
  },
  {
   "cell_type": "code",
   "execution_count": 40,
   "metadata": {
    "ExecuteTime": {
     "end_time": "2020-12-04T10:34:01.334333Z",
     "start_time": "2020-12-04T10:34:01.326163Z"
    }
   },
   "outputs": [
    {
     "name": "stdout",
     "output_type": "stream",
     "text": [
      "Valid passports: 72\n",
      "Valid passports with no cid: 145\n"
     ]
    }
   ],
   "source": [
    "valid_count = 0\n",
    "valid_count_with_exception = 0\n",
    "\n",
    "for p in all_passports:\n",
    "    if set(p.keys()) == set(required_fields) and check_passport(p):\n",
    "        valid_count += 1\n",
    "        valid_count_with_exception += 1\n",
    "    elif set(p.keys()) == set(required_fields_with_exception) and check_passport(p):\n",
    "        valid_count_with_exception += 1\n",
    "        \n",
    "print(\"Valid passports:\", valid_count)\n",
    "print(\"Valid passports with no cid:\", valid_count_with_exception)"
   ]
  },
  {
   "cell_type": "code",
   "execution_count": null,
   "metadata": {},
   "outputs": [],
   "source": []
  },
  {
   "cell_type": "code",
   "execution_count": null,
   "metadata": {},
   "outputs": [],
   "source": []
  }
 ],
 "metadata": {
  "kernelspec": {
   "display_name": "Python 3.8.1 64-bit ('kaggle': conda)",
   "language": "python",
   "name": "python38164bitkaggleconda0013a04193b845a7a07c668fa6fedcae"
  },
  "language_info": {
   "codemirror_mode": {
    "name": "ipython",
    "version": 3
   },
   "file_extension": ".py",
   "mimetype": "text/x-python",
   "name": "python",
   "nbconvert_exporter": "python",
   "pygments_lexer": "ipython3",
   "version": "3.8.5"
  }
 },
 "nbformat": 4,
 "nbformat_minor": 4
}
