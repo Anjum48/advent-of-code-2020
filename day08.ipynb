{
 "cells": [
  {
   "cell_type": "code",
   "execution_count": 1,
   "metadata": {
    "ExecuteTime": {
     "end_time": "2020-12-08T08:49:28.670903Z",
     "start_time": "2020-12-08T08:49:28.297977Z"
    }
   },
   "outputs": [],
   "source": [
    "import pandas as pd\n",
    "import numpy as np\n",
    "import re\n",
    "from pathlib import Path\n",
    "import networkx as nx\n",
    "\n",
    "INPUT_PATH = Path(\"input\")"
   ]
  },
  {
   "cell_type": "code",
   "execution_count": 2,
   "metadata": {
    "ExecuteTime": {
     "end_time": "2020-12-08T08:49:28.676172Z",
     "start_time": "2020-12-08T08:49:28.672574Z"
    }
   },
   "outputs": [],
   "source": [
    "with open(INPUT_PATH / \"day08_input.txt\", \"r\") as f:\n",
    "    code = [l.rstrip().split(\" \") for l in f.readlines()]"
   ]
  },
  {
   "cell_type": "code",
   "execution_count": 3,
   "metadata": {
    "ExecuteTime": {
     "end_time": "2020-12-08T08:49:28.686231Z",
     "start_time": "2020-12-08T08:49:28.677533Z"
    }
   },
   "outputs": [],
   "source": [
    "def run_code(code, flip_op=None, verbose=True, print_accum=True):\n",
    "    current_line = 0\n",
    "    accumulator = 0\n",
    "    executed_lines = []\n",
    "\n",
    "    def execute_line(line):\n",
    "        nonlocal current_line\n",
    "        nonlocal accumulator\n",
    "        nonlocal executed_lines\n",
    "\n",
    "        op, value = line\n",
    "\n",
    "        if value[0] == \"+\":\n",
    "            value = int(value[1:])\n",
    "        else:\n",
    "            value = -int(value[1:])\n",
    "            \n",
    "        if flip_op is not None and current_line == flip_op:\n",
    "            if op == \"nop\":\n",
    "                op == \"jmp\"\n",
    "            elif op == \"jmp\":\n",
    "                op = \"nop\"\n",
    "\n",
    "        if op == \"nop\":\n",
    "            current_line += 1\n",
    "        elif op == \"acc\":\n",
    "            current_line += 1\n",
    "            accumulator += value\n",
    "        elif op == \"jmp\":\n",
    "            current_line += value\n",
    "        else:\n",
    "            pass\n",
    "\n",
    "        if verbose:\n",
    "            print(line, current_line, accumulator)\n",
    "\n",
    "        if current_line in executed_lines:\n",
    "            if verbose:\n",
    "                print()\n",
    "                print(f\"Line {current_line} has already been executed. Stopping.\",\n",
    "                      f\"Accumulator value: {accumulator}.\")\n",
    "            raise Exception\n",
    "        else:\n",
    "            executed_lines.append(current_line)\n",
    "\n",
    "\n",
    "    exit_code = True\n",
    "    while current_line < len(code):\n",
    "        try:\n",
    "            execute_line(code[current_line])\n",
    "        except Exception:\n",
    "            exit_code = False\n",
    "            break\n",
    "    \n",
    "    if print_accum:\n",
    "        print(\"Final accumulator\", accumulator)\n",
    "    return exit_code"
   ]
  },
  {
   "cell_type": "code",
   "execution_count": 4,
   "metadata": {
    "ExecuteTime": {
     "end_time": "2020-12-08T08:49:28.698366Z",
     "start_time": "2020-12-08T08:49:28.687429Z"
    }
   },
   "outputs": [
    {
     "name": "stdout",
     "output_type": "stream",
     "text": [
      "Final accumulator 1600\n"
     ]
    },
    {
     "data": {
      "text/plain": [
       "False"
      ]
     },
     "execution_count": 4,
     "metadata": {},
     "output_type": "execute_result"
    }
   ],
   "source": [
    "exit_code = run_code(code, verbose=False)\n",
    "exit_code"
   ]
  },
  {
   "cell_type": "markdown",
   "metadata": {},
   "source": [
    "# Part 2"
   ]
  },
  {
   "cell_type": "code",
   "execution_count": 5,
   "metadata": {
    "ExecuteTime": {
     "end_time": "2020-12-08T08:49:28.702836Z",
     "start_time": "2020-12-08T08:49:28.699778Z"
    }
   },
   "outputs": [],
   "source": [
    "# Find all jmps & nops\n",
    "non_acc_ops = [i for i, l in enumerate(code) if not l[0].startswith(\"acc\")]"
   ]
  },
  {
   "cell_type": "code",
   "execution_count": 6,
   "metadata": {
    "ExecuteTime": {
     "end_time": "2020-12-08T08:49:28.815826Z",
     "start_time": "2020-12-08T08:49:28.704279Z"
    }
   },
   "outputs": [
    {
     "name": "stdout",
     "output_type": "stream",
     "text": [
      "Flipped line 264, ['jmp', '+60']\n",
      "Final accumulator 1543\n"
     ]
    }
   ],
   "source": [
    "for x in non_acc_ops:\n",
    "    exit_code = run_code(code, flip_op=x, verbose=False, print_accum=False)\n",
    "    if exit_code:\n",
    "        print(f\"Flipped line {x}, {code[x]}\")\n",
    "        run_code(code, flip_op=x, verbose=False, print_accum=True)"
   ]
  },
  {
   "cell_type": "code",
   "execution_count": null,
   "metadata": {},
   "outputs": [],
   "source": []
  }
 ],
 "metadata": {
  "kernelspec": {
   "display_name": "Python 3",
   "language": "python",
   "name": "python3"
  },
  "language_info": {
   "codemirror_mode": {
    "name": "ipython",
    "version": 3
   },
   "file_extension": ".py",
   "mimetype": "text/x-python",
   "name": "python",
   "nbconvert_exporter": "python",
   "pygments_lexer": "ipython3",
   "version": "3.7.7"
  }
 },
 "nbformat": 4,
 "nbformat_minor": 4
}
