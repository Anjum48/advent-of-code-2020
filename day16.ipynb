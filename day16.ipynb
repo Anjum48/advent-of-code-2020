{
 "cells": [
  {
   "cell_type": "code",
   "execution_count": 1,
   "metadata": {
    "ExecuteTime": {
     "end_time": "2020-12-16T10:56:44.854232Z",
     "start_time": "2020-12-16T10:56:44.793285Z"
    }
   },
   "outputs": [],
   "source": [
    "import re\n",
    "import numpy as np\n",
    "\n",
    "with open(\"input/day16_input.txt\", \"r\") as f:\n",
    "    notes = [l.rstrip() for l in f.readlines()]"
   ]
  },
  {
   "cell_type": "code",
   "execution_count": 2,
   "metadata": {
    "ExecuteTime": {
     "end_time": "2020-12-16T10:56:44.858264Z",
     "start_time": "2020-12-16T10:56:44.855962Z"
    }
   },
   "outputs": [],
   "source": [
    "re_exp = r\"^([\\w\\s]+):\\s(\\d+)-(\\d+)\\sor\\s(\\d+)-(\\d+)\"\n",
    "my_ticket_idx = notes.index(\"your ticket:\")\n",
    "nearby_ticket_idx = notes.index(\"nearby tickets:\")"
   ]
  },
  {
   "cell_type": "code",
   "execution_count": 3,
   "metadata": {
    "ExecuteTime": {
     "end_time": "2020-12-16T10:56:44.864575Z",
     "start_time": "2020-12-16T10:56:44.859534Z"
    }
   },
   "outputs": [],
   "source": [
    "rules = [re.findall(re_exp, line)[0] for line in notes[:my_ticket_idx - 1]]\n",
    "rules = {rule[0]: [int(r) for r in rule[1:]] for rule in rules}\n",
    "my_ticket = list(map(int, notes[my_ticket_idx + 1].split(',')))\n",
    "nearby_tickets = [list(map(int, notes[i].split(','))) for i in range(nearby_ticket_idx + 1, len(notes))]"
   ]
  },
  {
   "cell_type": "code",
   "execution_count": 4,
   "metadata": {
    "ExecuteTime": {
     "end_time": "2020-12-16T10:56:44.869744Z",
     "start_time": "2020-12-16T10:56:44.865761Z"
    }
   },
   "outputs": [],
   "source": [
    "def check_error_rate():\n",
    "    errors = []\n",
    "    invalid_tickets = []\n",
    "\n",
    "    for i, ticket in enumerate(nearby_tickets):\n",
    "        for f in ticket:\n",
    "            flag = 0\n",
    "            for _, r in rules.items():\n",
    "                if not (r[0] <= f <= r[1] or r[2] <= f <= r[3]):\n",
    "                    flag += 1\n",
    "\n",
    "            if flag == len(rules):\n",
    "                errors.append(f)\n",
    "                invalid_tickets.append(i)\n",
    "\n",
    "    return sum(errors), invalid_tickets"
   ]
  },
  {
   "cell_type": "code",
   "execution_count": 5,
   "metadata": {
    "ExecuteTime": {
     "end_time": "2020-12-16T10:56:44.894438Z",
     "start_time": "2020-12-16T10:56:44.870869Z"
    }
   },
   "outputs": [
    {
     "data": {
      "text/plain": [
       "20013"
      ]
     },
     "execution_count": 5,
     "metadata": {},
     "output_type": "execute_result"
    }
   ],
   "source": [
    "error_rate, invalid_tickets = check_error_rate()\n",
    "error_rate"
   ]
  },
  {
   "cell_type": "markdown",
   "metadata": {},
   "source": [
    "# Part 2"
   ]
  },
  {
   "cell_type": "code",
   "execution_count": 6,
   "metadata": {
    "ExecuteTime": {
     "end_time": "2020-12-16T10:56:44.899704Z",
     "start_time": "2020-12-16T10:56:44.895694Z"
    }
   },
   "outputs": [
    {
     "data": {
      "text/plain": [
       "array([[446, 499, 748, ..., 185, 828, 423],\n",
       "       [875, 895, 652, ..., 716, 887, 674],\n",
       "       [899, 387, 218, ..., 286, 628, 571],\n",
       "       ...,\n",
       "       [415,  54, 814, ...,  91, 879, 844],\n",
       "       [119, 457, 222, ..., 406, 326, 848],\n",
       "       [591, 319, 492, ..., 936, 127, 511]])"
      ]
     },
     "execution_count": 6,
     "metadata": {},
     "output_type": "execute_result"
    }
   ],
   "source": [
    "nearby_tickets = np.delete(np.array(nearby_tickets), invalid_tickets, axis=0)\n",
    "nearby_tickets"
   ]
  },
  {
   "cell_type": "code",
   "execution_count": 7,
   "metadata": {
    "ExecuteTime": {
     "end_time": "2020-12-16T10:56:44.906035Z",
     "start_time": "2020-12-16T10:56:44.901268Z"
    }
   },
   "outputs": [],
   "source": [
    "def check_rule(col, r):\n",
    "    return np.all((col >= r[0]) & (col <= r[1]) | (col >= r[2]) & (col <= r[3]))\n",
    "\n",
    "def check_candidates(candidates):\n",
    "    column_count = {k: [] for k in range(len(my_ticket))}\n",
    "    for col_idx in range(len(my_ticket)):\n",
    "        col = nearby_tickets[:, col_idx]\n",
    "        for rule_name, rule_values in rules.items():\n",
    "            if rule_name in candidates and check_rule(col, rule_values):\n",
    "                column_count[col_idx].append(rule_name)\n",
    "                \n",
    "    for k, v in column_count.items():\n",
    "        if len(v) == 1:\n",
    "            return k, v[0]"
   ]
  },
  {
   "cell_type": "code",
   "execution_count": 8,
   "metadata": {
    "ExecuteTime": {
     "end_time": "2020-12-16T10:56:44.960697Z",
     "start_time": "2020-12-16T10:56:44.907230Z"
    }
   },
   "outputs": [
    {
     "name": "stdout",
     "output_type": "stream",
     "text": [
      "{'row': 12, 'arrival station': 11, 'price': 6, 'seat': 8, 'route': 2, 'type': 18, 'arrival track': 13, 'departure station': 0, 'departure date': 7, 'departure location': 4, 'departure track': 17, 'departure time': 10, 'departure platform': 16, 'class': 1, 'zone': 15, 'arrival platform': 5, 'duration': 14, 'wagon': 9, 'arrival location': 3, 'train': 19}\n"
     ]
    },
    {
     "data": {
      "text/plain": [
       "5977293343129"
      ]
     },
     "execution_count": 8,
     "metadata": {},
     "output_type": "execute_result"
    }
   ],
   "source": [
    "mappings = {}\n",
    "candidates = list(rules.keys())\n",
    "\n",
    "while len(candidates) > 0:\n",
    "    col, field = check_candidates(candidates)\n",
    "    mappings[field] = col\n",
    "    candidates.remove(field)\n",
    "\n",
    "print(mappings)\n",
    "departure_values = [my_ticket[v] for k, v in mappings.items() if k.startswith(\"departure\")]       \n",
    "np.product(departure_values)"
   ]
  },
  {
   "cell_type": "code",
   "execution_count": null,
   "metadata": {},
   "outputs": [],
   "source": []
  }
 ],
 "metadata": {
  "kernelspec": {
   "display_name": "Python 3.8.1 64-bit ('kaggle': conda)",
   "language": "python",
   "name": "python38164bitkaggleconda0013a04193b845a7a07c668fa6fedcae"
  },
  "language_info": {
   "codemirror_mode": {
    "name": "ipython",
    "version": 3
   },
   "file_extension": ".py",
   "mimetype": "text/x-python",
   "name": "python",
   "nbconvert_exporter": "python",
   "pygments_lexer": "ipython3",
   "version": "3.8.5"
  }
 },
 "nbformat": 4,
 "nbformat_minor": 4
}
