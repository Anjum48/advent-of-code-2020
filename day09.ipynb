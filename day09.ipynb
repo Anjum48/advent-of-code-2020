{
 "cells": [
  {
   "cell_type": "code",
   "execution_count": 1,
   "metadata": {},
   "outputs": [],
   "source": [
    "from pathlib import Path\n",
    "from itertools import combinations\n",
    "\n",
    "INPUT_PATH = Path(\"input\")"
   ]
  },
  {
   "cell_type": "code",
   "execution_count": 2,
   "metadata": {},
   "outputs": [],
   "source": [
    "with open(INPUT_PATH / \"day09_input.txt\", \"r\") as f:\n",
    "    numbers = [int(l.rstrip()) for l in f.readlines()]\n",
    "    \n",
    "PREAMBLE = 25"
   ]
  },
  {
   "cell_type": "code",
   "execution_count": 3,
   "metadata": {},
   "outputs": [
    {
     "name": "stdout",
     "output_type": "stream",
     "text": [
      "Issue with 1124361034 at index 637\n"
     ]
    },
    {
     "data": {
      "text/plain": [
       "(1124361034, 637)"
      ]
     },
     "execution_count": 3,
     "metadata": {},
     "output_type": "execute_result"
    }
   ],
   "source": [
    "def inspect_pairs(seq, target):\n",
    "    for a, b in combinations(seq, 2):\n",
    "        if a + b == target:\n",
    "            return True\n",
    "    return False\n",
    "    \n",
    "\n",
    "def check_for_attack(sequence, preamble):\n",
    "    for i in range(len(sequence)):\n",
    "        previous = sequence[i:i + preamble]\n",
    "        next_value = sequence[i + preamble]\n",
    "        \n",
    "        if i <= len(sequence) - 1 and i > preamble:\n",
    "            if not inspect_pairs(previous, sequence[i + preamble]):\n",
    "                print(f\"Issue with {next_value} at index {i}\")\n",
    "                return next_value, i\n",
    "    return None, None\n",
    "\n",
    "check_for_attack(numbers, PREAMBLE)"
   ]
  },
  {
   "cell_type": "markdown",
   "metadata": {},
   "source": [
    "# Part 2"
   ]
  },
  {
   "cell_type": "code",
   "execution_count": 4,
   "metadata": {},
   "outputs": [],
   "source": [
    "def find_weakness(full_sequence, preamble):\n",
    "    target, index = check_for_attack(full_sequence, preamble)\n",
    "    sequence = full_sequence[:index]\n",
    "\n",
    "    for i in range(2, len(sequence)):\n",
    "        for j in range(len(sequence) - 1):\n",
    "            if sum(sequence[j:j+i]) == target:\n",
    "                cont_seq = sequence[j:j+i]\n",
    "                cont_seq_min = min(cont_seq)\n",
    "                cont_seq_max = max(cont_seq)\n",
    "                print(f\"Encryption Weakness {cont_seq_min + cont_seq_max}\")\n",
    "                break"
   ]
  },
  {
   "cell_type": "code",
   "execution_count": 5,
   "metadata": {},
   "outputs": [
    {
     "name": "stdout",
     "output_type": "stream",
     "text": [
      "Issue with 1124361034 at index 637\n",
      "Encryption Weakness 129444555\n"
     ]
    }
   ],
   "source": [
    "find_weakness(numbers, PREAMBLE)"
   ]
  },
  {
   "cell_type": "code",
   "execution_count": null,
   "metadata": {},
   "outputs": [],
   "source": []
  }
 ],
 "metadata": {
  "kernelspec": {
   "display_name": "Python 3",
   "language": "python",
   "name": "python3"
  },
  "language_info": {
   "codemirror_mode": {
    "name": "ipython",
    "version": 3
   },
   "file_extension": ".py",
   "mimetype": "text/x-python",
   "name": "python",
   "nbconvert_exporter": "python",
   "pygments_lexer": "ipython3",
   "version": "3.8.5"
  }
 },
 "nbformat": 4,
 "nbformat_minor": 4
}
