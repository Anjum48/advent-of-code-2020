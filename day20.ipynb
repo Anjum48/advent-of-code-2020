{
 "cells": [
  {
   "cell_type": "code",
   "execution_count": 1,
   "metadata": {
    "ExecuteTime": {
     "end_time": "2020-12-20T18:42:47.252065Z",
     "start_time": "2020-12-20T18:42:47.190444Z"
    }
   },
   "outputs": [],
   "source": [
    "import numpy as np\n",
    "import re\n",
    "from itertools import combinations\n",
    "\n",
    "with open(\"input/day20_input.txt\", \"r\") as f:\n",
    "    data = [l.rstrip().replace(\".\", \"0\").replace(\"#\", \"1\") for l in f.readlines()]"
   ]
  },
  {
   "cell_type": "code",
   "execution_count": 2,
   "metadata": {
    "ExecuteTime": {
     "end_time": "2020-12-20T18:42:47.262255Z",
     "start_time": "2020-12-20T18:42:47.253550Z"
    }
   },
   "outputs": [],
   "source": [
    "tile_number = None\n",
    "tile_data = []\n",
    "tiles = {}\n",
    "\n",
    "for line in data:\n",
    "    if line.startswith(\"Tile\"):\n",
    "        tile_number = int(re.findall(r\"\\d+\", line)[0])\n",
    "    elif line.isnumeric():\n",
    "        tile_data.append([int(l) for l in line])\n",
    "    else:\n",
    "        tiles[tile_number] = np.array(tile_data)\n",
    "        tile_number = None\n",
    "        tile_data = []\n",
    "        \n",
    "tiles[tile_number] = np.array(tile_data)"
   ]
  },
  {
   "cell_type": "code",
   "execution_count": 3,
   "metadata": {
    "ExecuteTime": {
     "end_time": "2020-12-20T18:42:47.273141Z",
     "start_time": "2020-12-20T18:42:47.264375Z"
    }
   },
   "outputs": [],
   "source": [
    "def compare_tiles(x1, x2):\n",
    "    edges = [(0, 0), (0, -1), (-1, 0), (-1, -1)]\n",
    "    flips = [(1, 1), (1, -1), (-1, 1), (-1, -1)]\n",
    "    \n",
    "    tests = []\n",
    "    for fa, fb in flips:\n",
    "        for a, b in edges:\n",
    "            tests.append(np.array_equal(x1[a][::fa], x2[b][::fb]))\n",
    "            tests.append(np.array_equal(x1[:, a][::fa], x2[:, b][::fb]))\n",
    "            tests.append(np.array_equal(x1[a][::fa], x2[:, b][::fb]))\n",
    "            tests.append(np.array_equal(x1[:, a][::fa], x2[b][::fb]))\n",
    "    return np.any(tests)"
   ]
  },
  {
   "cell_type": "code",
   "execution_count": 4,
   "metadata": {
    "ExecuteTime": {
     "end_time": "2020-12-20T18:42:54.921624Z",
     "start_time": "2020-12-20T18:42:47.274194Z"
    }
   },
   "outputs": [
    {
     "data": {
      "text/plain": [
       "13983397496713"
      ]
     },
     "execution_count": 4,
     "metadata": {},
     "output_type": "execute_result"
    }
   ],
   "source": [
    "# Find corner tiles\n",
    "matching_edges = {}\n",
    "\n",
    "for k1 in tiles.keys():\n",
    "    count = 0\n",
    "    for k2 in tiles.keys():\n",
    "        if k1 == k2:\n",
    "            continue\n",
    "        else:\n",
    "            if compare_tiles(tiles[k1], tiles[k2]):\n",
    "                count += 1\n",
    "                \n",
    "    matching_edges[k1] = count\n",
    "\n",
    "corner_ids = [k for k, v in matching_edges.items() if v == 2]\n",
    "np.product(corner_ids, dtype=np.int64)"
   ]
  },
  {
   "cell_type": "markdown",
   "metadata": {},
   "source": [
    "# Part 2"
   ]
  },
  {
   "cell_type": "code",
   "execution_count": 5,
   "metadata": {
    "ExecuteTime": {
     "end_time": "2020-12-20T18:42:54.928560Z",
     "start_time": "2020-12-20T18:42:54.922814Z"
    }
   },
   "outputs": [],
   "source": [
    "def find_piece(index, puzzle, exclude_list=[]):\n",
    "    r, c = index\n",
    "    upper = (max(0, r - 1), c)\n",
    "    lower = (min(puzzle.shape[1] - 1, r + 1), c)\n",
    "    left = (r, max(0, c - 1))\n",
    "    right = (r, min(puzzle.shape[0] - 1, c + 1))\n",
    "    adjacent_coords = [upper, lower, left, right]\n",
    "    \n",
    "    adjacent_tiles = {puzzle[c]: tiles[puzzle[c]] for c in adjacent_coords if puzzle[c] != 0}\n",
    "    n_adjacent = len(adjacent_tiles.keys())\n",
    "    \n",
    "    for k1, v1 in tiles.items():\n",
    "        if k1 in puzzle or k1 in exclude_list:\n",
    "            continue\n",
    "        else:\n",
    "            count = 0\n",
    "            for k2, v2 in adjacent_tiles.items():\n",
    "                if compare_tiles(tiles[k1], tiles[k2]):\n",
    "                    count += 1\n",
    "            if count == n_adjacent:\n",
    "                return k1\n",
    "    return None"
   ]
  },
  {
   "cell_type": "code",
   "execution_count": 6,
   "metadata": {
    "ExecuteTime": {
     "end_time": "2020-12-20T18:42:54.939620Z",
     "start_time": "2020-12-20T18:42:54.929751Z"
    }
   },
   "outputs": [],
   "source": [
    "def solve_puzzle(matching_edges):\n",
    "    puzzle_size = int(np.sqrt(len(tiles.keys())))\n",
    "    puzzle = np.zeros((puzzle_size, puzzle_size), dtype=int)\n",
    "    puzzle[0, 0] = corner_ids[0]\n",
    "\n",
    "    non_edge_tiles = [k for k, v in matching_edges.items() if v == 4]\n",
    "\n",
    "    # Fill in the edges first\n",
    "    for index, item in np.ndenumerate(puzzle):\n",
    "        if item == 0 and (index[0] == 0 or index[1] == 0 or index[0] == puzzle_size - 1 or index[1] == puzzle_size - 1):\n",
    "            puzzle[index] = find_piece(index, puzzle, non_edge_tiles)\n",
    "\n",
    "    # Fill the inner pieces\n",
    "    for index, item in np.ndenumerate(puzzle):\n",
    "        if item == 0:\n",
    "            puzzle[index] = find_piece(index, puzzle)\n",
    "            \n",
    "    return puzzle"
   ]
  },
  {
   "cell_type": "code",
   "execution_count": 7,
   "metadata": {
    "ExecuteTime": {
     "end_time": "2020-12-20T18:42:57.279846Z",
     "start_time": "2020-12-20T18:42:54.942483Z"
    }
   },
   "outputs": [
    {
     "data": {
      "text/plain": [
       "array([[3467, 1951, 1171, 1511, 1151, 3461, 1613, 1789, 2707, 2963, 1607,\n",
       "        1249],\n",
       "       [2719, 2731, 2549, 2273, 2237, 3209, 3767, 3733, 2477, 3923, 1697,\n",
       "        2029],\n",
       "       [3511, 3331, 2311, 3793, 3989, 1867, 1013, 1723, 3697, 1031, 2293,\n",
       "        2129],\n",
       "       [1129, 2837, 3253, 3847, 1933, 2339, 2027, 1163, 3739, 1873, 1091,\n",
       "        3413],\n",
       "       [1097, 3167, 2791, 1553, 3257, 1429, 2423, 3659, 2143, 3797, 2971,\n",
       "        2411],\n",
       "       [1549, 3251, 3547, 3469, 2579, 1879, 1721, 1931, 1489, 2887, 3391,\n",
       "        1373],\n",
       "       [1453, 1033, 1783, 1823, 3863, 2179, 2333, 3929, 3001, 2221, 3079,\n",
       "        1801],\n",
       "       [1871, 1523, 3931, 1997, 1069, 3643, 3163, 3907, 2393, 3583, 2251,\n",
       "        1039],\n",
       "       [2161, 3457, 3319, 1279, 2381, 1747, 2699, 1787, 3313, 1753, 2269,\n",
       "        1229],\n",
       "       [2711, 1213, 3853, 2879, 1223, 3299, 3671, 1949, 2797, 3917, 2287,\n",
       "        2137],\n",
       "       [1399, 3727, 2383, 2593, 2063, 1297, 3049, 3541, 2417, 1571, 1321,\n",
       "        3761],\n",
       "       [1019, 1283, 1583, 2459, 3833, 1777, 1499, 2689, 1301, 3301, 2081,\n",
       "        3169]])"
      ]
     },
     "execution_count": 7,
     "metadata": {},
     "output_type": "execute_result"
    }
   ],
   "source": [
    "puzzle = solve_puzzle(matching_edges)\n",
    "puzzle"
   ]
  },
  {
   "cell_type": "code",
   "execution_count": 8,
   "metadata": {
    "ExecuteTime": {
     "end_time": "2020-12-20T18:42:57.289412Z",
     "start_time": "2020-12-20T18:42:57.281091Z"
    }
   },
   "outputs": [],
   "source": [
    "def transform(x, k):\n",
    "    if k == 0:\n",
    "        return x\n",
    "    elif k == 1:\n",
    "        return np.rot90(x)\n",
    "    elif k == 2:\n",
    "        return np.rot90(x, 2)\n",
    "    elif k == 3:\n",
    "        return np.rot90(x, 3)\n",
    "    elif k == 4:\n",
    "        return np.fliplr(x)\n",
    "    elif k == 5:\n",
    "        return np.fliplr(np.rot90(x))\n",
    "    elif k == 6:\n",
    "        return np.fliplr(np.rot90(x, 2))\n",
    "    elif k == 7:\n",
    "        return np.fliplr(np.rot90(x, 3))\n",
    "    elif k == 8:\n",
    "        return np.flipud(x)\n",
    "    elif k == 9:\n",
    "        return np.flipud(np.rot90(x))\n",
    "    elif k == 10:\n",
    "        return np.flipud(np.rot90(x, 2))\n",
    "    elif k == 11:\n",
    "        return np.flipud(np.rot90(x, 3))\n",
    "    elif k == 12:\n",
    "        return np.flip(x)\n",
    "    elif k == 13:\n",
    "        return np.flip(np.rot90(x))\n",
    "    elif k == 14:\n",
    "        return np.flip(np.rot90(x, 2))\n",
    "    elif k == 15:\n",
    "        return np.flip(np.rot90(x, 3))\n",
    "    elif k == 16:\n",
    "        return np.transpose(x)\n",
    "    elif k == 17:\n",
    "        return np.transpose(np.rot90(x))\n",
    "    elif k == 18:\n",
    "        return np.transpose(np.rot90(x, 2))\n",
    "    elif k == 19:\n",
    "        return np.transpose(np.rot90(x, 3))"
   ]
  },
  {
   "cell_type": "code",
   "execution_count": 9,
   "metadata": {
    "ExecuteTime": {
     "end_time": "2020-12-20T18:42:57.298795Z",
     "start_time": "2020-12-20T18:42:57.290555Z"
    }
   },
   "outputs": [],
   "source": [
    "def check_tile_alignment(a, b, c, d):\n",
    "    cond1 = np.array_equal(a[:, -1], b[:, 0])\n",
    "    cond2 = np.array_equal(c[:, -1], d[:, 0])\n",
    "    cond3 = np.array_equal(a[-1], c[0])\n",
    "    cond4 = np.array_equal(b[-1], d[0])\n",
    "    return np.all([cond1, cond2, cond3, cond4])\n",
    "\n",
    "\n",
    "# Brute force search in a 2x2 area [[a, b], [c, d]]\n",
    "def align_tiles(tiles):\n",
    "    a, b, c, d = tiles\n",
    "\n",
    "    for i in range(20):\n",
    "        for j in range(20):\n",
    "            for k in range(20):\n",
    "                for l in range(20):\n",
    "                    a_t = transform(a, i)\n",
    "                    b_t = transform(b, j)\n",
    "                    c_t = transform(c, k)\n",
    "                    d_t = transform(d, l)\n",
    "                    if check_tile_alignment(a_t, b_t, c_t, d_t):\n",
    "                        return a_t, b_t, c_t, d_t"
   ]
  },
  {
   "cell_type": "code",
   "execution_count": 10,
   "metadata": {
    "ExecuteTime": {
     "end_time": "2020-12-20T18:46:25.718378Z",
     "start_time": "2020-12-20T18:42:57.299737Z"
    },
    "scrolled": false
   },
   "outputs": [],
   "source": [
    "# Orientate tiles\n",
    "tiles_oriented = {}\n",
    "\n",
    "for index, item in np.ndenumerate(puzzle[:-1, :-1]):\n",
    "    row, col = index\n",
    "    coords = [(row, col), (row, col + 1), (row + 1, col), (row + 1, col + 1)]\n",
    "    tile_names = [puzzle[c] for c in coords]\n",
    "    tiles2x2 = [tiles[n] for n in tile_names]\n",
    "\n",
    "    out = align_tiles(tiles2x2)\n",
    "    for name, img_part in zip(tile_names, out):\n",
    "        if name not in tiles_oriented.keys():\n",
    "            tiles_oriented[name] = img_part[1:-1, 1:-1]\n",
    "\n",
    "# Build image\n",
    "img = []\n",
    "for row in puzzle:\n",
    "    img.append(np.concatenate([tiles_oriented[i] for i in row], 1))\n",
    "    \n",
    "img = np.concatenate(img)"
   ]
  },
  {
   "cell_type": "code",
   "execution_count": 11,
   "metadata": {
    "ExecuteTime": {
     "end_time": "2020-12-20T18:46:25.723262Z",
     "start_time": "2020-12-20T18:46:25.719597Z"
    }
   },
   "outputs": [
    {
     "data": {
      "text/plain": [
       "(96, 96)"
      ]
     },
     "execution_count": 11,
     "metadata": {},
     "output_type": "execute_result"
    }
   ],
   "source": [
    "img.shape"
   ]
  },
  {
   "cell_type": "markdown",
   "metadata": {},
   "source": [
    "# Find the monsters\n",
    "Brute force search (again!) with a sliding window"
   ]
  },
  {
   "cell_type": "code",
   "execution_count": 14,
   "metadata": {
    "ExecuteTime": {
     "end_time": "2020-12-20T18:46:25.748071Z",
     "start_time": "2020-12-20T18:46:25.740379Z"
    }
   },
   "outputs": [
    {
     "data": {
      "text/plain": [
       "(3, 20)"
      ]
     },
     "execution_count": 14,
     "metadata": {},
     "output_type": "execute_result"
    }
   ],
   "source": [
    "monster = [[0, 0, 0, 0, 0, 0, 0, 0, 0, 0, 0, 0, 0, 0, 0, 0, 0, 0, 1, 0],\n",
    "           [1, 0, 0, 0, 0, 1, 1, 0, 0, 0, 0, 1, 1, 0, 0, 0, 0, 1, 1, 1],\n",
    "           [0, 1, 0, 0, 1, 0, 0, 1, 0, 0, 1, 0, 0, 1, 0, 0, 1, 0, 0, 0]]\n",
    "monster = np.array(monster)\n",
    "monster.shape"
   ]
  },
  {
   "cell_type": "code",
   "execution_count": 15,
   "metadata": {
    "ExecuteTime": {
     "end_time": "2020-12-20T18:46:25.753335Z",
     "start_time": "2020-12-20T18:46:25.749199Z"
    }
   },
   "outputs": [],
   "source": [
    "def check_for_monsters(img):\n",
    "    count = 0\n",
    "    for index, item in np.ndenumerate(img[:-monster.shape[0], :-monster.shape[1]]):\n",
    "        row, col = index\n",
    "        window = img[row:row + monster.shape[0], col:col+monster.shape[1]]\n",
    "\n",
    "        if np.array_equal(window * monster, monster):\n",
    "            count += 1\n",
    "    if count > 0:\n",
    "        print(f\"Found {count} monsters\")\n",
    "        return count\n",
    "    else:\n",
    "        return None"
   ]
  },
  {
   "cell_type": "code",
   "execution_count": 16,
   "metadata": {
    "ExecuteTime": {
     "end_time": "2020-12-20T18:46:26.053132Z",
     "start_time": "2020-12-20T18:46:25.754488Z"
    }
   },
   "outputs": [
    {
     "name": "stdout",
     "output_type": "stream",
     "text": [
      "Found 34 monsters\n",
      "2424\n"
     ]
    }
   ],
   "source": [
    "for i in range(20):\n",
    "    monster_count = check_for_monsters(transform(img, i))\n",
    "    if monster_count is not None:\n",
    "        print(np.sum(img) - monster_count * np.sum(monster))\n",
    "        break"
   ]
  },
  {
   "cell_type": "code",
   "execution_count": null,
   "metadata": {},
   "outputs": [],
   "source": []
  }
 ],
 "metadata": {
  "kernelspec": {
   "display_name": "Python 3.8.1 64-bit ('kaggle': conda)",
   "language": "python",
   "name": "python38164bitkaggleconda0013a04193b845a7a07c668fa6fedcae"
  },
  "language_info": {
   "codemirror_mode": {
    "name": "ipython",
    "version": 3
   },
   "file_extension": ".py",
   "mimetype": "text/x-python",
   "name": "python",
   "nbconvert_exporter": "python",
   "pygments_lexer": "ipython3",
   "version": "3.8.5"
  }
 },
 "nbformat": 4,
 "nbformat_minor": 4
}
