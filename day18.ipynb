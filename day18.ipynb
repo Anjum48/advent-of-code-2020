{
 "cells": [
  {
   "cell_type": "code",
   "execution_count": 1,
   "metadata": {
    "ExecuteTime": {
     "end_time": "2020-12-18T12:10:39.529323Z",
     "start_time": "2020-12-18T12:10:39.525748Z"
    }
   },
   "outputs": [],
   "source": [
    "import re"
   ]
  },
  {
   "cell_type": "code",
   "execution_count": 2,
   "metadata": {
    "ExecuteTime": {
     "end_time": "2020-12-18T12:10:39.535928Z",
     "start_time": "2020-12-18T12:10:39.531894Z"
    }
   },
   "outputs": [],
   "source": [
    "with open(\"input/day18_input.txt\", \"r\") as f:\n",
    "    homework = [l.rstrip() for l in f.readlines()]"
   ]
  },
  {
   "cell_type": "code",
   "execution_count": 3,
   "metadata": {
    "ExecuteTime": {
     "end_time": "2020-12-18T12:10:39.542814Z",
     "start_time": "2020-12-18T12:10:39.537267Z"
    }
   },
   "outputs": [],
   "source": [
    "re_bracket = r\"\\(\\d+\\s[^\\(\\)]+\\s\\d+\\)\"\n",
    "re_math, re_add, re_mul = r\"^\\d+\\s[\\+|\\*]\\s\\d+\", r\"\\d+\\s\\+\\s\\d+\", r\"\\d+\\s\\*\\s\\d+\"\n",
    "\n",
    "\n",
    "def evaluate(s, regex_exp=re_math):\n",
    "    while len(re.findall(regex_exp, s)) > 0:\n",
    "        for m in re.findall(regex_exp, s):\n",
    "            s = s.replace(m, str(eval(m)), 1)\n",
    "    return s\n",
    "\n",
    "\n",
    "def evaluate_brackets(s, eval_func=evaluate):\n",
    "    while len(re.findall(re_bracket, s)) > 0:\n",
    "        for b in re.findall(re_bracket, s):\n",
    "            s = s.replace(b, str(eval_func(b[1:-1])), 1)\n",
    "    return s\n",
    "\n",
    "\n",
    "def evaluate_pt2(s):\n",
    "    s = evaluate(s, re_add)\n",
    "    s = evaluate(s, re_mul)\n",
    "    return int(s)"
   ]
  },
  {
   "cell_type": "code",
   "execution_count": 4,
   "metadata": {
    "ExecuteTime": {
     "end_time": "2020-12-18T12:10:39.596043Z",
     "start_time": "2020-12-18T12:10:39.543907Z"
    }
   },
   "outputs": [
    {
     "data": {
      "text/plain": [
       "11076907812171"
      ]
     },
     "execution_count": 4,
     "metadata": {},
     "output_type": "execute_result"
    }
   ],
   "source": [
    "sum([int(evaluate(evaluate_brackets(exp))) for exp in homework])"
   ]
  },
  {
   "cell_type": "code",
   "execution_count": 5,
   "metadata": {
    "ExecuteTime": {
     "end_time": "2020-12-18T12:10:39.638205Z",
     "start_time": "2020-12-18T12:10:39.597319Z"
    }
   },
   "outputs": [
    {
     "data": {
      "text/plain": [
       "283729053022731"
      ]
     },
     "execution_count": 5,
     "metadata": {},
     "output_type": "execute_result"
    }
   ],
   "source": [
    "sum([int(evaluate_pt2(evaluate_brackets(exp, evaluate_pt2))) for exp in homework])"
   ]
  }
 ],
 "metadata": {
  "kernelspec": {
   "display_name": "Python 3.8.1 64-bit ('kaggle': conda)",
   "language": "python",
   "name": "python38164bitkaggleconda0013a04193b845a7a07c668fa6fedcae"
  },
  "language_info": {
   "codemirror_mode": {
    "name": "ipython",
    "version": 3
   },
   "file_extension": ".py",
   "mimetype": "text/x-python",
   "name": "python",
   "nbconvert_exporter": "python",
   "pygments_lexer": "ipython3",
   "version": "3.8.5"
  }
 },
 "nbformat": 4,
 "nbformat_minor": 4
}
