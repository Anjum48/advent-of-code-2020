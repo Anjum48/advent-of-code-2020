{
 "cells": [
  {
   "cell_type": "code",
   "execution_count": 1,
   "metadata": {
    "ExecuteTime": {
     "end_time": "2020-12-12T10:28:19.302417Z",
     "start_time": "2020-12-12T10:28:19.242985Z"
    }
   },
   "outputs": [],
   "source": [
    "from pathlib import Path\n",
    "import numpy as np\n",
    "\n",
    "INPUT_PATH = Path(\"input\")"
   ]
  },
  {
   "cell_type": "code",
   "execution_count": 2,
   "metadata": {
    "ExecuteTime": {
     "end_time": "2020-12-12T10:28:19.307102Z",
     "start_time": "2020-12-12T10:28:19.303918Z"
    }
   },
   "outputs": [],
   "source": [
    "with open(INPUT_PATH / \"day12_input.txt\", \"r\") as f:\n",
    "    instructions = [(l[0], int(l[1:].rstrip())) for l in f.readlines()]"
   ]
  },
  {
   "cell_type": "code",
   "execution_count": 3,
   "metadata": {
    "ExecuteTime": {
     "end_time": "2020-12-12T10:28:19.312582Z",
     "start_time": "2020-12-12T10:28:19.308193Z"
    }
   },
   "outputs": [],
   "source": [
    "def calc_distance_pt1(instructions, x=0, y=0, heading=90):\n",
    "    for action, number in instructions:\n",
    "        if action == \"F\":\n",
    "            x += np.sin(np.radians(heading)) * number\n",
    "            y += np.cos(np.radians(heading)) * number\n",
    "        elif action == \"N\":\n",
    "            y += number\n",
    "        elif action == \"S\":\n",
    "            y -= number\n",
    "        elif action == \"E\":\n",
    "            x += number\n",
    "        elif action == \"W\":\n",
    "            x -= number\n",
    "        elif action == \"R\":\n",
    "            heading += number\n",
    "        elif action == \"L\":\n",
    "            heading -= number\n",
    "    return abs(x) + abs(y)"
   ]
  },
  {
   "cell_type": "code",
   "execution_count": 4,
   "metadata": {
    "ExecuteTime": {
     "end_time": "2020-12-12T10:28:19.328028Z",
     "start_time": "2020-12-12T10:28:19.313482Z"
    }
   },
   "outputs": [
    {
     "data": {
      "text/plain": [
       "961.9999999999998"
      ]
     },
     "execution_count": 4,
     "metadata": {},
     "output_type": "execute_result"
    }
   ],
   "source": [
    "calc_distance_pt1(instructions)"
   ]
  },
  {
   "cell_type": "markdown",
   "metadata": {},
   "source": [
    "# Part 2"
   ]
  },
  {
   "cell_type": "code",
   "execution_count": 5,
   "metadata": {
    "ExecuteTime": {
     "end_time": "2020-12-12T10:28:19.332502Z",
     "start_time": "2020-12-12T10:28:19.329026Z"
    }
   },
   "outputs": [],
   "source": [
    "def rotate(x, y, angle):\n",
    "    theta = np.radians(angle)\n",
    "    c, s = np.cos(theta), np.sin(theta)\n",
    "    rot_matrix = np.array(((c, -s), (s, c)))\n",
    "    start_coords = np.array([[x], [y]])\n",
    "    final_coords = np.matmul(rot_matrix, start_coords)\n",
    "    return final_coords.flatten()"
   ]
  },
  {
   "cell_type": "code",
   "execution_count": 6,
   "metadata": {
    "ExecuteTime": {
     "end_time": "2020-12-12T10:28:19.337785Z",
     "start_time": "2020-12-12T10:28:19.333453Z"
    }
   },
   "outputs": [],
   "source": [
    "def calc_distance_pt2(instructions, waypoint_x=10, waypoint_y=1, x=0, y=0):\n",
    "    for action, number in instructions:\n",
    "        if action == \"F\":\n",
    "            x += waypoint_x * number\n",
    "            y += waypoint_y * number\n",
    "        elif action == \"N\":\n",
    "            waypoint_y += number\n",
    "        elif action == \"S\":\n",
    "            waypoint_y -= number\n",
    "        elif action == \"E\":\n",
    "            waypoint_x += number\n",
    "        elif action == \"W\":\n",
    "            waypoint_x -= number\n",
    "        elif action == \"R\":\n",
    "            waypoint_x, waypoint_y = rotate(waypoint_x, waypoint_y, -number)\n",
    "        elif action == \"L\":\n",
    "            waypoint_x, waypoint_y = rotate(waypoint_x, waypoint_y, number)\n",
    "\n",
    "    return abs(x) + abs(y)"
   ]
  },
  {
   "cell_type": "code",
   "execution_count": 7,
   "metadata": {
    "ExecuteTime": {
     "end_time": "2020-12-12T10:28:19.346506Z",
     "start_time": "2020-12-12T10:28:19.339048Z"
    }
   },
   "outputs": [
    {
     "data": {
      "text/plain": [
       "56135.0"
      ]
     },
     "execution_count": 7,
     "metadata": {},
     "output_type": "execute_result"
    }
   ],
   "source": [
    "calc_distance_pt2(instructions)"
   ]
  },
  {
   "cell_type": "code",
   "execution_count": null,
   "metadata": {},
   "outputs": [],
   "source": []
  }
 ],
 "metadata": {
  "kernelspec": {
   "display_name": "Python 3.8.1 64-bit ('kaggle': conda)",
   "language": "python",
   "name": "python38164bitkaggleconda0013a04193b845a7a07c668fa6fedcae"
  },
  "language_info": {
   "codemirror_mode": {
    "name": "ipython",
    "version": 3
   },
   "file_extension": ".py",
   "mimetype": "text/x-python",
   "name": "python",
   "nbconvert_exporter": "python",
   "pygments_lexer": "ipython3",
   "version": "3.8.5"
  }
 },
 "nbformat": 4,
 "nbformat_minor": 4
}
