{
 "cells": [
  {
   "cell_type": "code",
   "execution_count": 1,
   "metadata": {
    "ExecuteTime": {
     "end_time": "2020-12-13T12:22:43.813660Z",
     "start_time": "2020-12-13T12:22:43.636622Z"
    }
   },
   "outputs": [
    {
     "data": {
      "text/plain": [
       "(1004098,\n",
       " ['23',\n",
       "  'x',\n",
       "  'x',\n",
       "  'x',\n",
       "  'x',\n",
       "  'x',\n",
       "  'x',\n",
       "  'x',\n",
       "  'x',\n",
       "  'x',\n",
       "  'x',\n",
       "  'x',\n",
       "  'x',\n",
       "  '41',\n",
       "  'x',\n",
       "  'x',\n",
       "  'x',\n",
       "  'x',\n",
       "  'x',\n",
       "  'x',\n",
       "  'x',\n",
       "  'x',\n",
       "  'x',\n",
       "  '509',\n",
       "  'x',\n",
       "  'x',\n",
       "  'x',\n",
       "  'x',\n",
       "  'x',\n",
       "  'x',\n",
       "  'x',\n",
       "  'x',\n",
       "  'x',\n",
       "  'x',\n",
       "  'x',\n",
       "  'x',\n",
       "  '13',\n",
       "  '17',\n",
       "  'x',\n",
       "  'x',\n",
       "  'x',\n",
       "  'x',\n",
       "  'x',\n",
       "  'x',\n",
       "  'x',\n",
       "  'x',\n",
       "  'x',\n",
       "  'x',\n",
       "  'x',\n",
       "  'x',\n",
       "  'x',\n",
       "  'x',\n",
       "  '29',\n",
       "  'x',\n",
       "  '401',\n",
       "  'x',\n",
       "  'x',\n",
       "  'x',\n",
       "  'x',\n",
       "  'x',\n",
       "  '37',\n",
       "  'x',\n",
       "  'x',\n",
       "  'x',\n",
       "  'x',\n",
       "  'x',\n",
       "  'x',\n",
       "  'x',\n",
       "  'x',\n",
       "  'x',\n",
       "  'x',\n",
       "  'x',\n",
       "  'x',\n",
       "  '19'])"
      ]
     },
     "execution_count": 1,
     "metadata": {},
     "output_type": "execute_result"
    }
   ],
   "source": [
    "import numpy as np\n",
    "import pandas as pd\n",
    "\n",
    "with open(\"input/day13_input.txt\", \"r\") as f:\n",
    "    notes = [l.rstrip() for l in f.readlines()]\n",
    "    \n",
    "departure = int(notes[0])\n",
    "data = notes[1].split(\",\")\n",
    "\n",
    "departure, data"
   ]
  },
  {
   "cell_type": "code",
   "execution_count": 2,
   "metadata": {
    "ExecuteTime": {
     "end_time": "2020-12-13T12:22:43.820473Z",
     "start_time": "2020-12-13T12:22:43.815231Z"
    }
   },
   "outputs": [
    {
     "name": "stdout",
     "output_type": "stream",
     "text": [
      "The earliest bus is 401 at 1004104\n",
      "Answer: 2406\n"
     ]
    }
   ],
   "source": [
    "def next_bus(departure, bus):\n",
    "    return ((departure // bus) + 1) * bus\n",
    "\n",
    "\n",
    "buses = [int(b) for b in data if b != \"x\"]\n",
    "offsets = [bus - int(data.index(str(bus))) for bus in buses]\n",
    "next_time = []\n",
    "\n",
    "for bus in buses:\n",
    "    next_time.append(next_bus(departure, bus))\n",
    "\n",
    "earliest = np.argmin(next_time)\n",
    "print(f\"The earliest bus is {buses[earliest]} at {next_time[earliest]}\")\n",
    "print(f\"Answer: {(next_time[earliest]-departure)*buses[earliest]}\")"
   ]
  },
  {
   "cell_type": "markdown",
   "metadata": {},
   "source": [
    "# Part 2\n",
    "~We can narrow the search space since the bottom of the triangle has to have the first and last bus departing at the same time~ This will take too long to iterate over the search space\n",
    "\n",
    "\n",
    "Diophantine equation: https://en.wikipedia.org/wiki/Diophantine_equation\n",
    "\n",
    "Chinese remainder theorem: https://en.wikipedia.org/wiki/Chinese_remainder_theorem\n",
    "\n",
    "https://github.com/kresimir-lukin/AdventOfCode2020/blob/main/helpers.py"
   ]
  },
  {
   "cell_type": "code",
   "execution_count": 5,
   "metadata": {
    "ExecuteTime": {
     "end_time": "2020-12-13T12:28:08.718260Z",
     "start_time": "2020-12-13T12:28:08.708599Z"
    }
   },
   "outputs": [],
   "source": [
    "from functools import reduce\n",
    "import math\n",
    "\n",
    "\n",
    "def mul_inv(a, b):\n",
    "    b0 = b\n",
    "    x0, x1 = 0, 1\n",
    "    if b == 1: return 1\n",
    "    while a > 1:\n",
    "        q = a // b\n",
    "        a, b = b, a % b\n",
    "        x0, x1 = x1 - q * x0, x0\n",
    "    if x1 < 0: x1 += b0\n",
    "    return x1\n",
    "\n",
    "\n",
    "def chinese_remainder(n, a):\n",
    "    sum = 0\n",
    "    prod = reduce(lambda a, b: a * b, n)  # or math.prod(n)\n",
    "    for n_i, a_i in zip(n, a):\n",
    "        p = prod // n_i\n",
    "        sum += a_i * mul_inv(p, n_i) * p\n",
    "    return sum % prod\n",
    "\n",
    "\n",
    "# https://twitter.com/YassineAlouini/status/1338044427902873601/photo/1\n",
    "def chinese_remainder(divisors, remainders):\n",
    "    prod = math.prod(divisors)\n",
    "    # pow(2, 3, mod=3) is the same as 2**3 % 3 = 8 % 3 = 2\n",
    "    return sum(r * pow(prod // d, -1, mod=d) * prod // d\n",
    "               for d, r in zip(divisors, remainders)) % prod"
   ]
  },
  {
   "cell_type": "code",
   "execution_count": 6,
   "metadata": {
    "ExecuteTime": {
     "end_time": "2020-12-13T12:28:08.949585Z",
     "start_time": "2020-12-13T12:28:08.945039Z"
    }
   },
   "outputs": [
    {
     "data": {
      "text/plain": [
       "225850756401039"
      ]
     },
     "execution_count": 6,
     "metadata": {},
     "output_type": "execute_result"
    }
   ],
   "source": [
    "chinese_remainder(buses, offsets)"
   ]
  },
  {
   "cell_type": "code",
   "execution_count": null,
   "metadata": {},
   "outputs": [],
   "source": []
  }
 ],
 "metadata": {
  "kernelspec": {
   "display_name": "Python 3.8.1 64-bit ('kaggle': conda)",
   "language": "python",
   "name": "python38164bitkaggleconda0013a04193b845a7a07c668fa6fedcae"
  },
  "language_info": {
   "codemirror_mode": {
    "name": "ipython",
    "version": 3
   },
   "file_extension": ".py",
   "mimetype": "text/x-python",
   "name": "python",
   "nbconvert_exporter": "python",
   "pygments_lexer": "ipython3",
   "version": "3.8.5"
  }
 },
 "nbformat": 4,
 "nbformat_minor": 4
}
